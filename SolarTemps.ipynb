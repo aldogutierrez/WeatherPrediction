{
 "metadata": {
  "language_info": {
   "codemirror_mode": {
    "name": "ipython",
    "version": 3
   },
   "file_extension": ".py",
   "mimetype": "text/x-python",
   "name": "python",
   "nbconvert_exporter": "python",
   "pygments_lexer": "ipython3",
   "version": "3.7.0-final"
  },
  "orig_nbformat": 2,
  "kernelspec": {
   "name": "python_defaultSpec_1600561426257",
   "display_name": "Python 3.7.0 64-bit"
  }
 },
 "nbformat": 4,
 "nbformat_minor": 2,
 "cells": [
  {
   "cell_type": "markdown",
   "metadata": {},
   "source": [
    "# Solar Temperatures\n",
    "\n",
    "This notebook will utilize prepared data to compute the \"Feels Like\" temperature.\n",
    "\n",
    "This metric in weather prediction will add a weight to the high levels of humidity that can make a person lower the temperature in\n",
    "their thermostat.\n",
    "\n",
    "My goal for this notebook is to add a new attribute to weather data and use the heat index equation to make a new temperature."
   ]
  },
  {
   "cell_type": "code",
   "execution_count": 67,
   "metadata": {},
   "outputs": [
    {
     "output_type": "execute_result",
     "data": {
      "text/plain": "   Year  Month  Day  MaxTemp (F)  MinTemp (F)  DHI (w/m2)  DNI (w/m2)  \\\n0  2015      1    1         84.0         66.0          61         159   \n1  2015      1    2         84.0         69.0          54         215   \n2  2015      1    3         83.0         74.0          79         122   \n3  2015      1    4         85.0         71.0          49         240   \n4  2015      1    5         85.0         67.0          32         309   \n\n   Wind Speed (m/s)  Relative Humidity (%)  Pressure (mbar)  \n0               2.1                  85.12             1018  \n1               4.6                  85.98             1020  \n2               6.7                  84.27             1020  \n3               5.1                  84.11             1020  \n4               3.2                  86.44             1020  ",
      "text/html": "<div>\n<style scoped>\n    .dataframe tbody tr th:only-of-type {\n        vertical-align: middle;\n    }\n\n    .dataframe tbody tr th {\n        vertical-align: top;\n    }\n\n    .dataframe thead th {\n        text-align: right;\n    }\n</style>\n<table border=\"1\" class=\"dataframe\">\n  <thead>\n    <tr style=\"text-align: right;\">\n      <th></th>\n      <th>Year</th>\n      <th>Month</th>\n      <th>Day</th>\n      <th>MaxTemp (F)</th>\n      <th>MinTemp (F)</th>\n      <th>DHI (w/m2)</th>\n      <th>DNI (w/m2)</th>\n      <th>Wind Speed (m/s)</th>\n      <th>Relative Humidity (%)</th>\n      <th>Pressure (mbar)</th>\n    </tr>\n  </thead>\n  <tbody>\n    <tr>\n      <th>0</th>\n      <td>2015</td>\n      <td>1</td>\n      <td>1</td>\n      <td>84.0</td>\n      <td>66.0</td>\n      <td>61</td>\n      <td>159</td>\n      <td>2.1</td>\n      <td>85.12</td>\n      <td>1018</td>\n    </tr>\n    <tr>\n      <th>1</th>\n      <td>2015</td>\n      <td>1</td>\n      <td>2</td>\n      <td>84.0</td>\n      <td>69.0</td>\n      <td>54</td>\n      <td>215</td>\n      <td>4.6</td>\n      <td>85.98</td>\n      <td>1020</td>\n    </tr>\n    <tr>\n      <th>2</th>\n      <td>2015</td>\n      <td>1</td>\n      <td>3</td>\n      <td>83.0</td>\n      <td>74.0</td>\n      <td>79</td>\n      <td>122</td>\n      <td>6.7</td>\n      <td>84.27</td>\n      <td>1020</td>\n    </tr>\n    <tr>\n      <th>3</th>\n      <td>2015</td>\n      <td>1</td>\n      <td>4</td>\n      <td>85.0</td>\n      <td>71.0</td>\n      <td>49</td>\n      <td>240</td>\n      <td>5.1</td>\n      <td>84.11</td>\n      <td>1020</td>\n    </tr>\n    <tr>\n      <th>4</th>\n      <td>2015</td>\n      <td>1</td>\n      <td>5</td>\n      <td>85.0</td>\n      <td>67.0</td>\n      <td>32</td>\n      <td>309</td>\n      <td>3.2</td>\n      <td>86.44</td>\n      <td>1020</td>\n    </tr>\n  </tbody>\n</table>\n</div>"
     },
     "metadata": {},
     "execution_count": 67
    }
   ],
   "source": [
    "import pandas as pd\n",
    "import numpy as np\n",
    "\n",
    "# Load the data\n",
    "miamiTotalData = pd.read_csv('WeatherData/HotnHumid/miamiSolar/miamiWeatherSolarTotal.csv')\n",
    "\n",
    "miamiTotalData = miamiTotalData.drop(['Unnamed: 0'], axis=1)\n",
    "miamiTotalData.head()"
   ]
  },
  {
   "source": [
    "When dealing with temperatures in locations where there is a consistent high percentage of humidity, it is advised to use\n",
    "the **heat index** equation. The **heat index** equation combines air temperature and relative humidity, in shaded areas, to posit a human-perceived equivalent temperature, as how hot it would feel if the humidity were some other value in the shade. \n",
    "\n",
    "The version of the [heat index equation](https://www.wpc.ncep.noaa.gov/html/heatindex_equation.shtml) I will use is published from the National Oceanic and Atmospheric Administration (NOAA)."
   ],
   "cell_type": "markdown",
   "metadata": {}
  },
  {
   "source": [
    "The NOAA supplies two versions of the **heat index equation** that vary between thresholds for both temperatures and relative humidities.\n",
    "\n",
    "It is recommended that the full analysis of the **heat index equation** starts with Steadman's regression and then tested, to be recomputed with\n",
    "Rothfusz's regression"
   ],
   "cell_type": "markdown",
   "metadata": {}
  },
  {
   "cell_type": "code",
   "execution_count": 68,
   "metadata": {
    "tags": []
   },
   "outputs": [],
   "source": [
    "from math import sqrt, fabs\n",
    "\n",
    "def rothfusz_heat_index_regression(temperature, relative_humidity):\n",
    "    \"\"\"[Computes the 'feels like' temperature based on Rothfusz's regression]\n",
    "\n",
    "    Args:\n",
    "        temperature (float): Temperature in Fahrenheit\n",
    "        relative_humidity (float): Relative humidity in percentage\n",
    "\n",
    "    Returns:\n",
    "        float: Adjusted heat index temperature\n",
    "    \"\"\"\n",
    "    T, RH = temperature, relative_humidity\n",
    "\n",
    "    added_adjustment = ((RH - 85)/10) * ((87 - T)/5)\n",
    "    subtracted_adjustment = ((13 - RH)/4) * sqrt(17 - fabs(T - 95) / 17)\n",
    "\n",
    "    heat_index = (-42.379) + (2.04901523)*(T) + (10.14333127)*(RH) - (0.22475541)*(T)*(RH)\n",
    "    heat_index = heat_index - (0.00683783)*(T)*(T) - (0.05481717)*(RH)*(RH) + (0.00122874)*(T)*(T)*(RH)\n",
    "    heat_index = heat_index + (0.00085282)*(T)*(RH)*(RH) - (0.00000199)*(T)*(T)*(RH)*(RH)\n",
    "\n",
    "    if ((RH < 13) and (80 < T < 112)):\n",
    "        heat_index -= subtracted_adjustment\n",
    "    elif ((RH > 85) and (80 < T < 87)):\n",
    "        heat_index += added_adjustment\n",
    "\n",
    "    return round(heat_index, 2)"
   ]
  },
  {
   "cell_type": "code",
   "execution_count": 69,
   "metadata": {},
   "outputs": [],
   "source": [
    "def steadman_heat_index_regression(temperature, relative_humidity):\n",
    "    \"\"\"[Computes the 'feels like' temperature based on Steadman's regression]\n",
    "\n",
    "    Args:\n",
    "        temperature (float): Temperature in Fahrenheit\n",
    "        relative_humidity (float): Relative humidity in percentage\n",
    "\n",
    "    Returns:\n",
    "        float: Adjusted heat index temperature\n",
    "    \"\"\"\n",
    "    T, RH = temperature, relative_humidity\n",
    "    heat_index = (0.5) * (T + (61.0) + ((T - 68) * 1.2) + (RH * (0.094)))\n",
    "    \n",
    "    return round(heat_index, 2)"
   ]
  },
  {
   "source": [
    "In practice, the Steadman's regression is computed first and the result averaged with the temperature.\n",
    "\n",
    "**If** this heat index value is 80°F or higher, the full regression equation along with any adjustment as described above is applied."
   ],
   "cell_type": "markdown",
   "metadata": {}
  },
  {
   "cell_type": "code",
   "execution_count": 70,
   "metadata": {},
   "outputs": [],
   "source": [
    "def heat_index(temperature, relative_humidity):\n",
    "    \"\"\"[Computes the 'feels like' temperature for usage]\n",
    "\n",
    "    Args:\n",
    "        temperature (float): Temperature in Fahrenheit\n",
    "        relative_humidity (float): Relative humidity in percentage\n",
    "\n",
    "    Returns:\n",
    "        float: Adjusted heat index temperature based on NOAA's recommendation\n",
    "    \"\"\"\n",
    "    T, RH = temperature, relative_humidity\n",
    "    \n",
    "    temp = steadman_heat_index_regression(temperature=T, relative_humidity=RH)\n",
    "    steadman = (0.5) * (temp + T)\n",
    "\n",
    "    rothfusz = rothfusz_heat_index_regression(temperature=T, relative_humidity=RH)\n",
    "\n",
    "    if (steadman >= 80):\n",
    "        return rothfusz    "
   ]
  },
  {
   "source": [
    "However, I noticed that some of our data is incomplete, as some values are missing.\n",
    "\n",
    "We will apply a fill function that will take the average of the temperatures and fill the empty cells."
   ],
   "cell_type": "markdown",
   "metadata": {}
  },
  {
   "cell_type": "code",
   "execution_count": 71,
   "metadata": {},
   "outputs": [
    {
     "output_type": "execute_result",
     "data": {
      "text/plain": "Year                      0\nMonth                     0\nDay                       0\nMaxTemp (F)              17\nMinTemp (F)              16\nDHI (w/m2)                0\nDNI (w/m2)                0\nWind Speed (m/s)          0\nRelative Humidity (%)     0\nPressure (mbar)           0\ndtype: int64"
     },
     "metadata": {},
     "execution_count": 71
    }
   ],
   "source": [
    "miamiTotalData.isnull().sum()"
   ]
  },
  {
   "source": [
    "Here, we are able to see that there are missing values in the temperature columns.\n",
    "\n",
    "Since we have a lot of data, it'd be best if we just fill the missing values with the mean value for each of these columns."
   ],
   "cell_type": "markdown",
   "metadata": {}
  },
  {
   "cell_type": "code",
   "execution_count": 72,
   "metadata": {},
   "outputs": [],
   "source": [
    "miamiTotalData['MaxTemp (F)'].fillna(round(miamiTotalData['MaxTemp (F)'].mean(), 2), inplace=True)\n",
    "# miamiTotalData['MinTemp (F)'].fillna(miamiTotalData['MinTemp (F)'].mean(), inplace=True)"
   ]
  },
  {
   "cell_type": "code",
   "execution_count": 73,
   "metadata": {},
   "outputs": [
    {
     "output_type": "execute_result",
     "data": {
      "text/plain": "Year                      0\nMonth                     0\nDay                       0\nMaxTemp (F)               0\nMinTemp (F)              16\nDHI (w/m2)                0\nDNI (w/m2)                0\nWind Speed (m/s)          0\nRelative Humidity (%)     0\nPressure (mbar)           0\ndtype: int64"
     },
     "metadata": {},
     "execution_count": 73
    }
   ],
   "source": [
    "miamiTotalData.isnull().sum()"
   ]
  },
  {
   "cell_type": "code",
   "execution_count": 74,
   "metadata": {},
   "outputs": [],
   "source": [
    "# Creating a new attribute in the dataframe, this new attribute will be the \"feels like\" temperature\n",
    "miamiTotalData.insert(loc=5, column='Heat Index (F)', value=0, allow_duplicates=False)"
   ]
  },
  {
   "source": [
    "Now we have added an attribute that will contain the **heat index** or **feels like** temperature."
   ],
   "cell_type": "markdown",
   "metadata": {}
  },
  {
   "cell_type": "code",
   "execution_count": 75,
   "metadata": {},
   "outputs": [
    {
     "output_type": "execute_result",
     "data": {
      "text/plain": "      Year  Month  Day  MaxTemp (F)  MinTemp (F)  Heat Index (F)  DHI (w/m2)  \\\n1820  2019     12   27        82.00         72.0           91.28          44   \n1821  2019     12   28        81.00         72.0           88.93          53   \n1822  2019     12   29        80.00         73.0           85.46          62   \n1823  2019     12   30        79.00         67.0             NaN          66   \n1824  2019     12   31        85.82         59.0          100.81          44   \n\n      DNI (w/m2)  Wind Speed (m/s)  Relative Humidity (%)  Pressure (mbar)  \n1820         247               5.2                  88.14             1017  \n1821         138               5.7                  89.57             1017  \n1822         119               5.5                  88.79             1016  \n1823          25               3.3                  90.15             1014  \n1824         170               3.5                  83.05             1017  ",
      "text/html": "<div>\n<style scoped>\n    .dataframe tbody tr th:only-of-type {\n        vertical-align: middle;\n    }\n\n    .dataframe tbody tr th {\n        vertical-align: top;\n    }\n\n    .dataframe thead th {\n        text-align: right;\n    }\n</style>\n<table border=\"1\" class=\"dataframe\">\n  <thead>\n    <tr style=\"text-align: right;\">\n      <th></th>\n      <th>Year</th>\n      <th>Month</th>\n      <th>Day</th>\n      <th>MaxTemp (F)</th>\n      <th>MinTemp (F)</th>\n      <th>Heat Index (F)</th>\n      <th>DHI (w/m2)</th>\n      <th>DNI (w/m2)</th>\n      <th>Wind Speed (m/s)</th>\n      <th>Relative Humidity (%)</th>\n      <th>Pressure (mbar)</th>\n    </tr>\n  </thead>\n  <tbody>\n    <tr>\n      <th>1820</th>\n      <td>2019</td>\n      <td>12</td>\n      <td>27</td>\n      <td>82.00</td>\n      <td>72.0</td>\n      <td>91.28</td>\n      <td>44</td>\n      <td>247</td>\n      <td>5.2</td>\n      <td>88.14</td>\n      <td>1017</td>\n    </tr>\n    <tr>\n      <th>1821</th>\n      <td>2019</td>\n      <td>12</td>\n      <td>28</td>\n      <td>81.00</td>\n      <td>72.0</td>\n      <td>88.93</td>\n      <td>53</td>\n      <td>138</td>\n      <td>5.7</td>\n      <td>89.57</td>\n      <td>1017</td>\n    </tr>\n    <tr>\n      <th>1822</th>\n      <td>2019</td>\n      <td>12</td>\n      <td>29</td>\n      <td>80.00</td>\n      <td>73.0</td>\n      <td>85.46</td>\n      <td>62</td>\n      <td>119</td>\n      <td>5.5</td>\n      <td>88.79</td>\n      <td>1016</td>\n    </tr>\n    <tr>\n      <th>1823</th>\n      <td>2019</td>\n      <td>12</td>\n      <td>30</td>\n      <td>79.00</td>\n      <td>67.0</td>\n      <td>NaN</td>\n      <td>66</td>\n      <td>25</td>\n      <td>3.3</td>\n      <td>90.15</td>\n      <td>1014</td>\n    </tr>\n    <tr>\n      <th>1824</th>\n      <td>2019</td>\n      <td>12</td>\n      <td>31</td>\n      <td>85.82</td>\n      <td>59.0</td>\n      <td>100.81</td>\n      <td>44</td>\n      <td>170</td>\n      <td>3.5</td>\n      <td>83.05</td>\n      <td>1017</td>\n    </tr>\n  </tbody>\n</table>\n</div>"
     },
     "metadata": {},
     "execution_count": 75
    }
   ],
   "source": [
    "miamiTotalData['Heat Index (F)'] = miamiTotalData.apply(lambda row: heat_index(row['MaxTemp (F)'], row['Relative Humidity (%)']), axis=1)\n",
    "\n",
    "miamiTotalData.tail()"
   ]
  },
  {
   "cell_type": "code",
   "execution_count": 76,
   "metadata": {},
   "outputs": [
    {
     "output_type": "execute_result",
     "data": {
      "text/plain": "Year                       0\nMonth                      0\nDay                        0\nMaxTemp (F)                0\nMinTemp (F)               16\nHeat Index (F)           246\nDHI (w/m2)                 0\nDNI (w/m2)                 0\nWind Speed (m/s)           0\nRelative Humidity (%)      0\nPressure (mbar)            0\ndtype: int64"
     },
     "metadata": {},
     "execution_count": 76
    }
   ],
   "source": [
    "miamiTotalData['Heat Index (F)'] = miamiTotalData.apply(lambda row: heat_index(row['MaxTemp (F)'], row['Relative Humidity (%)']), axis=1)\n",
    "\n",
    "miamiTotalData.isnull().sum()"
   ]
  },
  {
   "cell_type": "code",
   "execution_count": null,
   "metadata": {},
   "outputs": [],
   "source": []
  }
 ]
}