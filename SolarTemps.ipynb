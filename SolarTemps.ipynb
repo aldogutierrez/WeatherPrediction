{
 "metadata": {
  "language_info": {
   "codemirror_mode": {
    "name": "ipython",
    "version": 3
   },
   "file_extension": ".py",
   "mimetype": "text/x-python",
   "name": "python",
   "nbconvert_exporter": "python",
   "pygments_lexer": "ipython3",
   "version": "3.7.0-final"
  },
  "orig_nbformat": 2,
  "kernelspec": {
   "name": "python_defaultSpec_1600498011050",
   "display_name": "Python 3.7.0 64-bit"
  }
 },
 "nbformat": 4,
 "nbformat_minor": 2,
 "cells": [
  {
   "cell_type": "markdown",
   "metadata": {},
   "source": [
    "# Solar Temperatures\n",
    "\n",
    "This notebook will utilize prepared data to compute the \"Feels Like\" temperature.\n",
    "\n",
    "This metric in weather prediction will add a weight to the high levels of humidity that can make a person lower the temperature in\n",
    "their thermostat.\n",
    "\n",
    "My goal for this notebook is to add a new attribute to weather data and use the heat index equation to make a new temperature."
   ]
  },
  {
   "cell_type": "code",
   "execution_count": 19,
   "metadata": {},
   "outputs": [
    {
     "output_type": "execute_result",
     "data": {
      "text/plain": "   Year  Month  Day  DHI (w/m2)  DNI (w/m2)  Wind Speed (m/s)  \\\n0  2015      1    1          27       120.0               0.2   \n1  2015      1    2          30       127.0               0.4   \n2  2015      1    3          22       223.0               0.4   \n3  2015      1    4          15       157.0               0.4   \n4  2015      1    5          25       106.0               0.6   \n\n   Relative Humidity (%)  Pressure (mbar)  \n0                  75.54              998  \n1                  73.16              993  \n2                  54.87             1017  \n3                  86.75             1001  \n4                  81.97              983  ",
      "text/html": "<div>\n<style scoped>\n    .dataframe tbody tr th:only-of-type {\n        vertical-align: middle;\n    }\n\n    .dataframe tbody tr th {\n        vertical-align: top;\n    }\n\n    .dataframe thead th {\n        text-align: right;\n    }\n</style>\n<table border=\"1\" class=\"dataframe\">\n  <thead>\n    <tr style=\"text-align: right;\">\n      <th></th>\n      <th>Year</th>\n      <th>Month</th>\n      <th>Day</th>\n      <th>DHI (w/m2)</th>\n      <th>DNI (w/m2)</th>\n      <th>Wind Speed (m/s)</th>\n      <th>Relative Humidity (%)</th>\n      <th>Pressure (mbar)</th>\n    </tr>\n  </thead>\n  <tbody>\n    <tr>\n      <th>0</th>\n      <td>2015</td>\n      <td>1</td>\n      <td>1</td>\n      <td>27</td>\n      <td>120.0</td>\n      <td>0.2</td>\n      <td>75.54</td>\n      <td>998</td>\n    </tr>\n    <tr>\n      <th>1</th>\n      <td>2015</td>\n      <td>1</td>\n      <td>2</td>\n      <td>30</td>\n      <td>127.0</td>\n      <td>0.4</td>\n      <td>73.16</td>\n      <td>993</td>\n    </tr>\n    <tr>\n      <th>2</th>\n      <td>2015</td>\n      <td>1</td>\n      <td>3</td>\n      <td>22</td>\n      <td>223.0</td>\n      <td>0.4</td>\n      <td>54.87</td>\n      <td>1017</td>\n    </tr>\n    <tr>\n      <th>3</th>\n      <td>2015</td>\n      <td>1</td>\n      <td>4</td>\n      <td>15</td>\n      <td>157.0</td>\n      <td>0.4</td>\n      <td>86.75</td>\n      <td>1001</td>\n    </tr>\n    <tr>\n      <th>4</th>\n      <td>2015</td>\n      <td>1</td>\n      <td>5</td>\n      <td>25</td>\n      <td>106.0</td>\n      <td>0.6</td>\n      <td>81.97</td>\n      <td>983</td>\n    </tr>\n  </tbody>\n</table>\n</div>"
     },
     "metadata": {},
     "execution_count": 19
    }
   ],
   "source": [
    "import pandas as pd\n",
    "import numpy as np\n",
    "\n",
    "# Load the data\n",
    "halifaxSolar = pd.read_csv('WeatherData/ColdnHumid/halifax/halifaxSolar/halifaxSolarTotal.csv')\n",
    "\n",
    "halifaxSolar = halifaxSolar.drop(['Unnamed: 0'], axis=1)\n",
    "halifaxSolar.head()"
   ]
  },
  {
   "source": [
    "When dealing with temperatures in locations where there is a consistent high percentage of humidity, it is advised to use\n",
    "the **heat index** equation. The **heat index** equation combines air temperature and relative humidity, in shaded areas, to posit a human-perceived equivalent temperature, as how hot it would feel if the humidity were some other value in the shade. \n",
    "\n",
    "The version of the [heat index equation](https://www.wpc.ncep.noaa.gov/html/heatindex_equation.shtml) I will use is published from the National Oceanic and Atmospheric Administration (NOAA)."
   ],
   "cell_type": "markdown",
   "metadata": {}
  },
  {
   "source": [
    "The NOAA supplies two versions of the **heat index equation** that vary between thresholds for both temperatures and relative humidities.\n",
    "\n",
    "It is recommended that the full analysis of the **heat index equation** starts with Steadman's regression and then tested, to be recomputed with\n",
    "Rothfusz's regression"
   ],
   "cell_type": "markdown",
   "metadata": {}
  },
  {
   "cell_type": "code",
   "execution_count": 20,
   "metadata": {
    "tags": []
   },
   "outputs": [],
   "source": [
    "from math import sqrt, fabs\n",
    "\n",
    "def rothfusz_heat_index_regression(temperature, relative_humidity):\n",
    "    \"\"\"[Computes the 'feels like' temperature based on Rothfusz's regression]\n",
    "\n",
    "    Args:\n",
    "        temperature (float): Temperature in Fahrenheit\n",
    "        relative_humidity (float): Relative humidity in percentage\n",
    "\n",
    "    Returns:\n",
    "        float: Adjusted heat index temperature\n",
    "    \"\"\"\n",
    "    T, RH = temperature, relative_humidity\n",
    "\n",
    "    added_adjustment = ((RH - 85)/10) * ((87 - T)/5)\n",
    "    subtracted_adjustment = ((13 - RH)/4) * sqrt(17 - fabs(T - 95) / 17)\n",
    "\n",
    "    heat_index = (-42.379) + (2.04901523)*(T) + (10.14333127)*(RH) - (0.22475541)*(T)*(RH)\n",
    "    heat_index = heat_index - (0.00683783)*(T)*(T) - (0.05481717)*(RH)*(RH) + (0.00122874)*(T)*(T)*(RH)\n",
    "    heat_index = heat_index + (0.00085282)*(T)*(RH)*(RH) - (0.00000199)*(T)*(T)*(RH)*(RH)\n",
    "\n",
    "    if ((RH < 13) and (80 < T < 112)):\n",
    "        heat_index -= subtracted_adjustment\n",
    "    elif ((RH > 85) and (80 < T < 87)):\n",
    "        heat_index += added_adjustment\n",
    "\n",
    "    return round(heat_index, 2)"
   ]
  },
  {
   "cell_type": "code",
   "execution_count": 21,
   "metadata": {},
   "outputs": [],
   "source": [
    "def steadman_heat_index_regression(temperature, relative_humidity):\n",
    "    \"\"\"[Computes the 'feels like' temperature based on Steadman's regression]\n",
    "\n",
    "    Args:\n",
    "        temperature (float): Temperature in Fahrenheit\n",
    "        relative_humidity (float): Relative humidity in percentage\n",
    "\n",
    "    Returns:\n",
    "        float: Adjusted heat index temperature\n",
    "    \"\"\"\n",
    "    T, RH = temperature, relative_humidity\n",
    "    heat_index = (0.5) * (T + (61.0) + ((T - 68) * 1.2) + (RH * (0.094)))\n",
    "    \n",
    "    return round(heat_index, 2)"
   ]
  },
  {
   "source": [
    "In practice, the Steadman's regression is computed first and the result averaged with the temperature.\n",
    "\n",
    "**If** this heat index value is 80°F or higher, the full regression equation along with any adjustment as described above is applied."
   ],
   "cell_type": "markdown",
   "metadata": {}
  },
  {
   "cell_type": "code",
   "execution_count": 22,
   "metadata": {},
   "outputs": [],
   "source": [
    "def heat_index(temperature, relative_humidity):\n",
    "    \"\"\"[Computes the 'feels like' temperature for usage]\n",
    "\n",
    "    Args:\n",
    "        temperature (float): Temperature in Fahrenheit\n",
    "        relative_humidity (float): Relative humidity in percentage\n",
    "\n",
    "    Returns:\n",
    "        float: Adjusted heat index temperature based on NOAA's recommendation\n",
    "    \"\"\"\n",
    "    T, RH = temperature, relative_humidity\n",
    "    \n",
    "    temp = steadman_heat_index_regression(temperature=T, relative_humidity=RH)\n",
    "    steadman = (0.5) * (temp + T)\n",
    "\n",
    "    rothfusz = rothfusz_heat_index_regression(temperature=T, relative_humidity=RH)\n",
    "\n",
    "    if (steadman >= 80):\n",
    "        return rothfusz    "
   ]
  }
 ]
}