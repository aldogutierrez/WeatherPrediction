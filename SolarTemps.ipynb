{
 "metadata": {
  "language_info": {
   "codemirror_mode": {
    "name": "ipython",
    "version": 3
   },
   "file_extension": ".py",
   "mimetype": "text/x-python",
   "name": "python",
   "nbconvert_exporter": "python",
   "pygments_lexer": "ipython3",
   "version": 3
  },
  "orig_nbformat": 2,
  "kernelspec": {
   "name": "python_defaultSpec_1597272798848",
   "display_name": "Python 3.7.0 64-bit"
  }
 },
 "nbformat": 4,
 "nbformat_minor": 2,
 "cells": [
  {
   "cell_type": "markdown",
   "metadata": {},
   "source": [
    "# Solar Temperatures\n",
    "\n",
    "This notebook will utilize prepared data to compute the \"Feels Like\" temperature.\n",
    "\n",
    "This metric in weather prediction will add a weight to the high levels of humidity that can make a person lower the temperature in\n",
    "their thermostat.\n",
    "\n",
    "My goal for this notebook is to add a new attribute to weather data and use the heat index equation to make a new temperature."
   ]
  },
  {
   "cell_type": "code",
   "execution_count": 10,
   "metadata": {},
   "outputs": [
    {
     "output_type": "execute_result",
     "data": {
      "text/plain": "   Year  Month  Day  DHI (w/m2)  DNI (w/m2)  Wind Speed (m/s)  \\\n0  2015      1    1          27       120.0               0.2   \n1  2015      1    2          30       127.0               0.4   \n2  2015      1    3          22       223.0               0.4   \n3  2015      1    4          15       157.0               0.4   \n4  2015      1    5          25       106.0               0.6   \n\n   Relative Humidity (%)  Pressure (mbar)  \n0                  75.54              998  \n1                  73.16              993  \n2                  54.87             1017  \n3                  86.75             1001  \n4                  81.97              983  ",
      "text/html": "<div>\n<style scoped>\n    .dataframe tbody tr th:only-of-type {\n        vertical-align: middle;\n    }\n\n    .dataframe tbody tr th {\n        vertical-align: top;\n    }\n\n    .dataframe thead th {\n        text-align: right;\n    }\n</style>\n<table border=\"1\" class=\"dataframe\">\n  <thead>\n    <tr style=\"text-align: right;\">\n      <th></th>\n      <th>Year</th>\n      <th>Month</th>\n      <th>Day</th>\n      <th>DHI (w/m2)</th>\n      <th>DNI (w/m2)</th>\n      <th>Wind Speed (m/s)</th>\n      <th>Relative Humidity (%)</th>\n      <th>Pressure (mbar)</th>\n    </tr>\n  </thead>\n  <tbody>\n    <tr>\n      <th>0</th>\n      <td>2015</td>\n      <td>1</td>\n      <td>1</td>\n      <td>27</td>\n      <td>120.0</td>\n      <td>0.2</td>\n      <td>75.54</td>\n      <td>998</td>\n    </tr>\n    <tr>\n      <th>1</th>\n      <td>2015</td>\n      <td>1</td>\n      <td>2</td>\n      <td>30</td>\n      <td>127.0</td>\n      <td>0.4</td>\n      <td>73.16</td>\n      <td>993</td>\n    </tr>\n    <tr>\n      <th>2</th>\n      <td>2015</td>\n      <td>1</td>\n      <td>3</td>\n      <td>22</td>\n      <td>223.0</td>\n      <td>0.4</td>\n      <td>54.87</td>\n      <td>1017</td>\n    </tr>\n    <tr>\n      <th>3</th>\n      <td>2015</td>\n      <td>1</td>\n      <td>4</td>\n      <td>15</td>\n      <td>157.0</td>\n      <td>0.4</td>\n      <td>86.75</td>\n      <td>1001</td>\n    </tr>\n    <tr>\n      <th>4</th>\n      <td>2015</td>\n      <td>1</td>\n      <td>5</td>\n      <td>25</td>\n      <td>106.0</td>\n      <td>0.6</td>\n      <td>81.97</td>\n      <td>983</td>\n    </tr>\n  </tbody>\n</table>\n</div>"
     },
     "metadata": {},
     "execution_count": 10
    }
   ],
   "source": [
    "import pandas as pd\n",
    "import numpy as np\n",
    "\n",
    "# Load the data\n",
    "halifaxSolar = pd.read_csv('WeatherData/ColdnHumid/halifax/halifaxSolar/halifaxSolarTotal.csv')\n",
    "\n",
    "halifaxSolar = halifaxSolar.drop(['Unnamed: 0'], axis=1)\n",
    "halifaxSolar.head()"
   ]
  }
 ]
}