{
 "metadata": {
  "language_info": {
   "codemirror_mode": {
    "name": "ipython",
    "version": 3
   },
   "file_extension": ".py",
   "mimetype": "text/x-python",
   "name": "python",
   "nbconvert_exporter": "python",
   "pygments_lexer": "ipython3",
   "version": "3.9.0-final"
  },
  "orig_nbformat": 2,
  "kernelspec": {
   "name": "python3",
   "display_name": "Python 3.9.0 64-bit ('3.9.0')",
   "metadata": {
    "interpreter": {
     "hash": "09d2c832d263a7ee5e36179bf7671f9df5795cd2be116fa18a67c50cb415a003"
    }
   }
  }
 },
 "nbformat": 4,
 "nbformat_minor": 2,
 "cells": [
  {
   "cell_type": "markdown",
   "metadata": {},
   "source": [
    "# Weather Prediction Model\n",
    "This notebook will contain a ML model that predicts comfortable temperatures based on historical data. For this model, I'll be using San Jose's weather data from 2010 to June 28th, 2020. The reason for using as much data is that the variety in the data can help avoid overfitting."
   ]
  },
  {
   "cell_type": "code",
   "execution_count": 68,
   "metadata": {},
   "outputs": [
    {
     "output_type": "execute_result",
     "data": {
      "text/plain": [
       "   Year  Month  Day  Max Temp (F)  Min Temp (F)  Average Wind Speed (mph)  \\\n",
       "0  2010      1    1          63.0          49.0                       2.3   \n",
       "1  2010      1    2          58.0          45.0                       2.4   \n",
       "2  2010      1    3          60.0          39.0                       3.4   \n",
       "3  2010      1    4          57.0          42.0                       2.8   \n",
       "4  2010      1    5          59.0          38.0                       2.3   \n",
       "\n",
       "   Relative Humidity (%)  \n",
       "0                     94  \n",
       "1                     96  \n",
       "2                     89  \n",
       "3                     86  \n",
       "4                     90  "
      ],
      "text/html": "<div>\n<style scoped>\n    .dataframe tbody tr th:only-of-type {\n        vertical-align: middle;\n    }\n\n    .dataframe tbody tr th {\n        vertical-align: top;\n    }\n\n    .dataframe thead th {\n        text-align: right;\n    }\n</style>\n<table border=\"1\" class=\"dataframe\">\n  <thead>\n    <tr style=\"text-align: right;\">\n      <th></th>\n      <th>Year</th>\n      <th>Month</th>\n      <th>Day</th>\n      <th>Max Temp (F)</th>\n      <th>Min Temp (F)</th>\n      <th>Average Wind Speed (mph)</th>\n      <th>Relative Humidity (%)</th>\n    </tr>\n  </thead>\n  <tbody>\n    <tr>\n      <th>0</th>\n      <td>2010</td>\n      <td>1</td>\n      <td>1</td>\n      <td>63.0</td>\n      <td>49.0</td>\n      <td>2.3</td>\n      <td>94</td>\n    </tr>\n    <tr>\n      <th>1</th>\n      <td>2010</td>\n      <td>1</td>\n      <td>2</td>\n      <td>58.0</td>\n      <td>45.0</td>\n      <td>2.4</td>\n      <td>96</td>\n    </tr>\n    <tr>\n      <th>2</th>\n      <td>2010</td>\n      <td>1</td>\n      <td>3</td>\n      <td>60.0</td>\n      <td>39.0</td>\n      <td>3.4</td>\n      <td>89</td>\n    </tr>\n    <tr>\n      <th>3</th>\n      <td>2010</td>\n      <td>1</td>\n      <td>4</td>\n      <td>57.0</td>\n      <td>42.0</td>\n      <td>2.8</td>\n      <td>86</td>\n    </tr>\n    <tr>\n      <th>4</th>\n      <td>2010</td>\n      <td>1</td>\n      <td>5</td>\n      <td>59.0</td>\n      <td>38.0</td>\n      <td>2.3</td>\n      <td>90</td>\n    </tr>\n  </tbody>\n</table>\n</div>"
     },
     "metadata": {},
     "execution_count": 68
    }
   ],
   "source": [
    "import pandas as pd\n",
    "import numpy as np\n",
    "import matplotlib.pyplot as plt\n",
    "\n",
    "sanJoseWeather = pd.read_csv('WeatherData/Template/sanJose_Weather_Solar.csv')\n",
    "\n",
    "sanJoseWeather.head()"
   ]
  },
  {
   "cell_type": "code",
   "execution_count": 69,
   "metadata": {},
   "outputs": [],
   "source": [
    "from math import sqrt, fabs, pow, floor\n",
    "\n",
    "############\n",
    "def rothfusz_heat_index_regression(temperature, relative_humidity):\n",
    "    \"\"\"[Computes the 'feels like' temperature based on Rothfusz's regression]\n",
    "\n",
    "    Args:\n",
    "        temperature (float): Temperature in Fahrenheit\n",
    "        relative_humidity (float): Relative humidity in percentage\n",
    "\n",
    "    Returns:\n",
    "        float: Adjusted heat index temperature\n",
    "    \"\"\"\n",
    "    T, RH = temperature, relative_humidity\n",
    "\n",
    "    added_adjustment = ((RH - 85)/10) * ((87 - T)/5)\n",
    "    subtracted_adjustment = ((13 - RH)/4) * sqrt(17 - fabs(T - 95) / 17)\n",
    "\n",
    "    heat_index = (-42.379) + (2.04901523)*(T) + (10.14333127)*(RH) - (0.22475541)*(T)*(RH)\n",
    "    heat_index = heat_index - (0.00683783)*(T)*(T) - (0.05481717)*(RH)*(RH) + (0.00122874)*(T)*(T)*(RH)\n",
    "    heat_index = heat_index + (0.00085282)*(T)*(RH)*(RH) - (0.00000199)*(T)*(T)*(RH)*(RH)\n",
    "\n",
    "    if ((RH < 13) and (80 < T < 112)):\n",
    "        heat_index -= subtracted_adjustment\n",
    "    elif ((RH > 85) and (80 < T < 87)):\n",
    "        heat_index += added_adjustment\n",
    "\n",
    "    return round(heat_index)\n",
    "\n",
    "def steadman_heat_index_regression(temperature, relative_humidity):\n",
    "    \"\"\"[Computes the 'feels like' temperature based on Steadman's regression]\n",
    "\n",
    "    Args:\n",
    "        temperature (float): Temperature in Fahrenheit\n",
    "        relative_humidity (float): Relative humidity in percentage\n",
    "\n",
    "    Returns:\n",
    "        float: Adjusted heat index temperature\n",
    "    \"\"\"\n",
    "    T, RH = temperature, relative_humidity\n",
    "    heat_index = (0.5) * (T + (61.0) + ((T - 68) * 1.2) + (RH * (0.094)))\n",
    "    \n",
    "    return round(heat_index)\n",
    "\n",
    "def heat_index(temperature, relative_humidity):\n",
    "    \"\"\"[Computes the 'feels like' temperature for usage]\n",
    "\n",
    "    Args:\n",
    "        temperature (float): Temperature in Fahrenheit\n",
    "        relative_humidity (float): Relative humidity in percentage\n",
    "\n",
    "    Returns:\n",
    "        float: Adjusted heat index temperature based on NOAA's recommendation\n",
    "    \"\"\"\n",
    "    T, RH = temperature, relative_humidity\n",
    "    \n",
    "    temp = steadman_heat_index_regression(temperature=T, relative_humidity=RH)\n",
    "    steadman = (0.5) * (temp + T)\n",
    "\n",
    "    rothfusz = rothfusz_heat_index_regression(temperature=T, relative_humidity=RH)\n",
    "\n",
    "    if (steadman >= 80):\n",
    "        return rothfusz\n",
    "    \n",
    "    return round(steadman)\n",
    "\n",
    "################\n",
    "\n",
    "def windchill_regression(temperature, wind_speed):\n",
    "    T, V = temperature, wind_speed\n",
    "    feels_like = 35.74 + (0.6215) * (T) - (35.75) * (pow(V, 0.16)) + (0.4275 * T) * (pow(V, 0.16))\n",
    "    return round(feels_like)\n",
    "\n",
    "def get_windchill(temperature, wind_speed):\n",
    "    T, V = temperature, wind_speed\n",
    "    if (T > 50):\n",
    "        return temperature\n",
    "    else:\n",
    "        return windchill_regression(T, V)\n",
    "\n",
    "####################\n",
    "\n",
    "def real_feel(temperature, relative_humidity, wind_speed):\n",
    "    T, RH, WS = temperature, relative_humidity, wind_speed\n",
    "    if (temperature > 50):\n",
    "        return heat_index(temperature=T, relative_humidity=RH)\n",
    "    return get_windchill(temperature=T, wind_speed=WS)"
   ]
  },
  {
   "cell_type": "code",
   "execution_count": 70,
   "metadata": {},
   "outputs": [
    {
     "output_type": "execute_result",
     "data": {
      "text/plain": [
       "Year                         0\n",
       "Month                        0\n",
       "Day                          0\n",
       "Max Temp (F)                32\n",
       "Min Temp (F)                34\n",
       "Average Wind Speed (mph)     0\n",
       "Relative Humidity (%)        0\n",
       "dtype: int64"
      ]
     },
     "metadata": {},
     "execution_count": 70
    }
   ],
   "source": [
    "sanJoseWeather.isna().sum()"
   ]
  },
  {
   "cell_type": "code",
   "execution_count": 71,
   "metadata": {},
   "outputs": [],
   "source": [
    "sanJoseWeather['Max Temp (F)'].fillna(round(sanJoseWeather['Max Temp (F)'].mean()), inplace=True)\n",
    "sanJoseWeather['Min Temp (F)'].fillna(round(sanJoseWeather['Min Temp (F)'].mean()), inplace=True)"
   ]
  },
  {
   "cell_type": "code",
   "execution_count": 72,
   "metadata": {},
   "outputs": [
    {
     "output_type": "execute_result",
     "data": {
      "text/plain": [
       "Year                        0\n",
       "Month                       0\n",
       "Day                         0\n",
       "Max Temp (F)                0\n",
       "Min Temp (F)                0\n",
       "Average Wind Speed (mph)    0\n",
       "Relative Humidity (%)       0\n",
       "dtype: int64"
      ]
     },
     "metadata": {},
     "execution_count": 72
    }
   ],
   "source": [
    "sanJoseWeather.isna().sum()"
   ]
  },
  {
   "cell_type": "code",
   "execution_count": 73,
   "metadata": {},
   "outputs": [],
   "source": [
    "sanJoseWeather.insert(loc=7, column='Real Feel (F)', value=0, allow_duplicates=False)"
   ]
  },
  {
   "cell_type": "code",
   "execution_count": 74,
   "metadata": {},
   "outputs": [],
   "source": [
    "sanJoseWeather['Real Feel (F)'] = sanJoseWeather.apply(lambda row: real_feel(row['Max Temp (F)'], row['Relative Humidity (%)'], row['Average Wind Speed (mph)']), axis=1)"
   ]
  },
  {
   "cell_type": "code",
   "execution_count": 75,
   "metadata": {},
   "outputs": [
    {
     "output_type": "execute_result",
     "data": {
      "text/plain": [
       "   Year  Month  Day  Max Temp (F)  Min Temp (F)  Average Wind Speed (mph)  \\\n",
       "0  2010      1    1          63.0          49.0                       2.3   \n",
       "1  2010      1    2          58.0          45.0                       2.4   \n",
       "2  2010      1    3          60.0          39.0                       3.4   \n",
       "3  2010      1    4          57.0          42.0                       2.8   \n",
       "4  2010      1    5          59.0          38.0                       2.3   \n",
       "\n",
       "   Relative Humidity (%)  Real Feel (F)  \n",
       "0                     94             63  \n",
       "1                     96             58  \n",
       "2                     89             60  \n",
       "3                     86             56  \n",
       "4                     90             59  "
      ],
      "text/html": "<div>\n<style scoped>\n    .dataframe tbody tr th:only-of-type {\n        vertical-align: middle;\n    }\n\n    .dataframe tbody tr th {\n        vertical-align: top;\n    }\n\n    .dataframe thead th {\n        text-align: right;\n    }\n</style>\n<table border=\"1\" class=\"dataframe\">\n  <thead>\n    <tr style=\"text-align: right;\">\n      <th></th>\n      <th>Year</th>\n      <th>Month</th>\n      <th>Day</th>\n      <th>Max Temp (F)</th>\n      <th>Min Temp (F)</th>\n      <th>Average Wind Speed (mph)</th>\n      <th>Relative Humidity (%)</th>\n      <th>Real Feel (F)</th>\n    </tr>\n  </thead>\n  <tbody>\n    <tr>\n      <th>0</th>\n      <td>2010</td>\n      <td>1</td>\n      <td>1</td>\n      <td>63.0</td>\n      <td>49.0</td>\n      <td>2.3</td>\n      <td>94</td>\n      <td>63</td>\n    </tr>\n    <tr>\n      <th>1</th>\n      <td>2010</td>\n      <td>1</td>\n      <td>2</td>\n      <td>58.0</td>\n      <td>45.0</td>\n      <td>2.4</td>\n      <td>96</td>\n      <td>58</td>\n    </tr>\n    <tr>\n      <th>2</th>\n      <td>2010</td>\n      <td>1</td>\n      <td>3</td>\n      <td>60.0</td>\n      <td>39.0</td>\n      <td>3.4</td>\n      <td>89</td>\n      <td>60</td>\n    </tr>\n    <tr>\n      <th>3</th>\n      <td>2010</td>\n      <td>1</td>\n      <td>4</td>\n      <td>57.0</td>\n      <td>42.0</td>\n      <td>2.8</td>\n      <td>86</td>\n      <td>56</td>\n    </tr>\n    <tr>\n      <th>4</th>\n      <td>2010</td>\n      <td>1</td>\n      <td>5</td>\n      <td>59.0</td>\n      <td>38.0</td>\n      <td>2.3</td>\n      <td>90</td>\n      <td>59</td>\n    </tr>\n  </tbody>\n</table>\n</div>"
     },
     "metadata": {},
     "execution_count": 75
    }
   ],
   "source": [
    "sanJoseWeather.head()"
   ]
  },
  {
   "cell_type": "code",
   "execution_count": 76,
   "metadata": {},
   "outputs": [
    {
     "output_type": "execute_result",
     "data": {
      "text/plain": [
       "Year                        0\n",
       "Month                       0\n",
       "Day                         0\n",
       "Max Temp (F)                0\n",
       "Min Temp (F)                0\n",
       "Average Wind Speed (mph)    0\n",
       "Relative Humidity (%)       0\n",
       "Real Feel (F)               0\n",
       "dtype: int64"
      ]
     },
     "metadata": {},
     "execution_count": 76
    }
   ],
   "source": [
    "sanJoseWeather.isna().sum()"
   ]
  },
  {
   "cell_type": "code",
   "execution_count": 77,
   "metadata": {},
   "outputs": [],
   "source": [
    "import random\n",
    "from time import gmtime\n",
    "from calendar import timegm\n",
    "\n",
    "def user_heating(windchill_temperature):\n",
    "    # Gets the systems milliseconds since the epoch\n",
    "    mseconds = timegm(gmtime())\n",
    "    # Sets the milliseconds as the random seed for generation\n",
    "    rand_seed = random.seed(mseconds * random.random())\n",
    "\n",
    "    min_heat = 60\n",
    "    avg_heat = 66\n",
    "    max_heat = 71\n",
    "    if (windchill_temperature <= 45):\n",
    "        return random.randrange(avg_heat, max_heat, 1)\n",
    "    elif (windchill_temperature > 45):\n",
    "        return random.randrange(min_heat, avg_heat, 1)\n",
    "\n",
    "def user_cooling(feels_like_temperature):\n",
    "    # Gets the systems milliseconds since the epoch\n",
    "    mseconds = timegm(gmtime())\n",
    "    # Sets the milliseconds as the random seed for generation\n",
    "    rand_seed = random.seed(mseconds * random.random())\n",
    "\n",
    "    min_cool = 74\n",
    "    avg_cool = 79\n",
    "    max_cool = 85\n",
    "    if (feels_like_temperature >= 90):\n",
    "        return random.randrange(min_cool, avg_cool, 1)\n",
    "    elif (feels_like_temperature < 90):\n",
    "        return random.randrange(avg_cool, max_cool, 1)\n",
    "\n",
    "def user_normal(temperature):\n",
    "    return floor(temperature)\n",
    "\n",
    "def get_user_data(weighted_temperature):\n",
    "    if (weighted_temperature <= 64):\n",
    "        # The WHO recommends a minimum indoor temperature of 64 degrees Fahrenheit\n",
    "        return user_heating(windchill_temperature=weighted_temperature) # Run the heat\n",
    "    elif (weighted_temperature > 64 and weighted_temperature <= 80):\n",
    "        return user_normal(weighted_temperature) # The house is at room temperature\n",
    "    elif (weighted_temperature > 80):\n",
    "        return user_cooling(feels_like_temperature=weighted_temperature) # Otherwise run the A/C"
   ]
  },
  {
   "cell_type": "code",
   "execution_count": 78,
   "metadata": {},
   "outputs": [],
   "source": [
    "sanJoseWeather.insert(loc=8, column='Users Thermostat (F)', value=0, allow_duplicates=False)"
   ]
  },
  {
   "cell_type": "code",
   "execution_count": 79,
   "metadata": {},
   "outputs": [],
   "source": [
    "sanJoseWeather['Users Thermostat (F)'] = sanJoseWeather.apply(lambda row: get_user_data(row['Real Feel (F)']), axis=1)"
   ]
  },
  {
   "cell_type": "code",
   "execution_count": 80,
   "metadata": {},
   "outputs": [
    {
     "output_type": "execute_result",
     "data": {
      "text/plain": [
       "Year                        0\n",
       "Month                       0\n",
       "Day                         0\n",
       "Max Temp (F)                0\n",
       "Min Temp (F)                0\n",
       "Average Wind Speed (mph)    0\n",
       "Relative Humidity (%)       0\n",
       "Real Feel (F)               0\n",
       "Users Thermostat (F)        0\n",
       "dtype: int64"
      ]
     },
     "metadata": {},
     "execution_count": 80
    }
   ],
   "source": [
    "sanJoseWeather.isnull().sum()"
   ]
  },
  {
   "cell_type": "code",
   "execution_count": 85,
   "metadata": {},
   "outputs": [],
   "source": [
    "sanJoseWeather.to_csv(path_or_buf='WeatherData/Template/sanJoseComplete_User.csv')"
   ]
  }
 ]
}