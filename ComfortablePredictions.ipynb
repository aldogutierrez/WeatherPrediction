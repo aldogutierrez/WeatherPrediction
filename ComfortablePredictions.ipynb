{
 "metadata": {
  "language_info": {
   "codemirror_mode": {
    "name": "ipython",
    "version": 3
   },
   "file_extension": ".py",
   "mimetype": "text/x-python",
   "name": "python",
   "nbconvert_exporter": "python",
   "pygments_lexer": "ipython3",
   "version": 3
  },
  "orig_nbformat": 2,
  "kernelspec": {
   "name": "python_defaultSpec_1595672822580",
   "display_name": "Python 3.7.0 64-bit"
  }
 },
 "nbformat": 4,
 "nbformat_minor": 2,
 "cells": [
  {
   "cell_type": "markdown",
   "metadata": {},
   "source": [
    "# Weather Prediction Model\n",
    "This notebook will contain a ML model that predicts comfortable temperatures based on historical data. For this model, I'll be using San Jose's weather data for 2019."
   ]
  },
  {
   "cell_type": "code",
   "execution_count": 1,
   "metadata": {},
   "outputs": [],
   "source": [
    "import pandas as pd\n",
    "import numpy as np\n",
    "import matplotlib.pyplot as plt"
   ]
  },
  {
   "cell_type": "code",
   "execution_count": 5,
   "metadata": {},
   "outputs": [
    {
     "output_type": "execute_result",
     "data": {
      "text/plain": "       STATION             NAME        DATE   AWND  PGTM  TAVG  TMAX  TMIN  \\\n0  USW00023293  SAN JOSE, CA US  2019-01-01   5.82   NaN   NaN    55  36.0   \n1  USW00023293  SAN JOSE, CA US  2019-01-02   4.03   NaN   NaN    57  33.0   \n2  USW00023293  SAN JOSE, CA US  2019-01-03   2.68   NaN   NaN    58  34.0   \n3  USW00023293  SAN JOSE, CA US  2019-01-04   3.36   NaN   NaN    62  35.0   \n4  USW00023293  SAN JOSE, CA US  2019-01-05  13.20   NaN   NaN    56  46.0   \n\n   WDF2   WDF5  WSF2  WSF5  \n0    50   60.0  17.0  23.0  \n1   330  330.0   8.9  10.1  \n2   320  340.0   8.9  11.0  \n3   200  200.0  14.1  19.0  \n4   130  150.0  30.0  40.0  ",
      "text/html": "<div>\n<style scoped>\n    .dataframe tbody tr th:only-of-type {\n        vertical-align: middle;\n    }\n\n    .dataframe tbody tr th {\n        vertical-align: top;\n    }\n\n    .dataframe thead th {\n        text-align: right;\n    }\n</style>\n<table border=\"1\" class=\"dataframe\">\n  <thead>\n    <tr style=\"text-align: right;\">\n      <th></th>\n      <th>STATION</th>\n      <th>NAME</th>\n      <th>DATE</th>\n      <th>AWND</th>\n      <th>PGTM</th>\n      <th>TAVG</th>\n      <th>TMAX</th>\n      <th>TMIN</th>\n      <th>WDF2</th>\n      <th>WDF5</th>\n      <th>WSF2</th>\n      <th>WSF5</th>\n    </tr>\n  </thead>\n  <tbody>\n    <tr>\n      <th>0</th>\n      <td>USW00023293</td>\n      <td>SAN JOSE, CA US</td>\n      <td>2019-01-01</td>\n      <td>5.82</td>\n      <td>NaN</td>\n      <td>NaN</td>\n      <td>55</td>\n      <td>36.0</td>\n      <td>50</td>\n      <td>60.0</td>\n      <td>17.0</td>\n      <td>23.0</td>\n    </tr>\n    <tr>\n      <th>1</th>\n      <td>USW00023293</td>\n      <td>SAN JOSE, CA US</td>\n      <td>2019-01-02</td>\n      <td>4.03</td>\n      <td>NaN</td>\n      <td>NaN</td>\n      <td>57</td>\n      <td>33.0</td>\n      <td>330</td>\n      <td>330.0</td>\n      <td>8.9</td>\n      <td>10.1</td>\n    </tr>\n    <tr>\n      <th>2</th>\n      <td>USW00023293</td>\n      <td>SAN JOSE, CA US</td>\n      <td>2019-01-03</td>\n      <td>2.68</td>\n      <td>NaN</td>\n      <td>NaN</td>\n      <td>58</td>\n      <td>34.0</td>\n      <td>320</td>\n      <td>340.0</td>\n      <td>8.9</td>\n      <td>11.0</td>\n    </tr>\n    <tr>\n      <th>3</th>\n      <td>USW00023293</td>\n      <td>SAN JOSE, CA US</td>\n      <td>2019-01-04</td>\n      <td>3.36</td>\n      <td>NaN</td>\n      <td>NaN</td>\n      <td>62</td>\n      <td>35.0</td>\n      <td>200</td>\n      <td>200.0</td>\n      <td>14.1</td>\n      <td>19.0</td>\n    </tr>\n    <tr>\n      <th>4</th>\n      <td>USW00023293</td>\n      <td>SAN JOSE, CA US</td>\n      <td>2019-01-05</td>\n      <td>13.20</td>\n      <td>NaN</td>\n      <td>NaN</td>\n      <td>56</td>\n      <td>46.0</td>\n      <td>130</td>\n      <td>150.0</td>\n      <td>30.0</td>\n      <td>40.0</td>\n    </tr>\n  </tbody>\n</table>\n</div>"
     },
     "metadata": {},
     "execution_count": 5
    }
   ],
   "source": [
    "weatherData = pd.read_csv('sanJoseWeather.csv')\n",
    "weatherData.head()"
   ]
  },
  {
   "cell_type": "code",
   "execution_count": null,
   "metadata": {},
   "outputs": [],
   "source": []
  }
 ]
}