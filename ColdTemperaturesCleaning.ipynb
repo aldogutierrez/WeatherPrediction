{
 "metadata": {
  "language_info": {
   "codemirror_mode": {
    "name": "ipython",
    "version": 3
   },
   "file_extension": ".py",
   "mimetype": "text/x-python",
   "name": "python",
   "nbconvert_exporter": "python",
   "pygments_lexer": "ipython3",
   "version": "3.8.3-final"
  },
  "orig_nbformat": 2,
  "kernelspec": {
   "name": "python3",
   "display_name": "Python 3"
  }
 },
 "nbformat": 4,
 "nbformat_minor": 2,
 "cells": [
  {
   "source": [
    "# Cold Temperature Data Cleaning and Attribute Addition\n",
    "\n",
    "This notebook will take colder temperatures and fix null values and add a windchill attribute that will help with getting a better prediction of how wind affects the temperature.\n",
    "\n",
    "The notebook will also become the data for a recommender system"
   ],
   "cell_type": "markdown",
   "metadata": {}
  },
  {
   "cell_type": "code",
   "execution_count": 52,
   "metadata": {},
   "outputs": [
    {
     "output_type": "execute_result",
     "data": {
      "text/plain": [
       "Unnamed: 0               1825\n",
       "Unnamed: 0.1             1825\n",
       "Year                     1825\n",
       "Month                    1825\n",
       "Day                      1825\n",
       "DHI (w/m2)               1825\n",
       "DNI (w/m2)               1825\n",
       "Wind Speed (m/s)         1825\n",
       "Relative Humidity (%)    1825\n",
       "Pressure (mbar)          1825\n",
       "dtype: int64"
      ]
     },
     "metadata": {},
     "execution_count": 52
    }
   ],
   "source": [
    "import pandas as pd\n",
    "import numpy as np\n",
    "import matplotlib.pyplot as plt\n",
    "\n",
    "halifax_weather_data = pd.read_csv('WeatherData/ColdnHumid/halifax/halifaxWeatherTotal.csv')\n",
    "\n",
    "halifax_solar_data = pd.read_csv('WeatherData/ColdnHumid/halifax/halifaxSolar/halifaxSolarTotal.csv')\n",
    "\n",
    "halifax_solar_data.count()"
   ]
  },
  {
   "cell_type": "code",
   "execution_count": 58,
   "metadata": {},
   "outputs": [
    {
     "output_type": "execute_result",
     "data": {
      "text/plain": [
       "      Unnamed: 0  Unnamed: 0.1  ...  Relative Humidity (%)  Pressure (mbar)\n",
       "1820        1820           360  ...                  86.61             1007\n",
       "1821        1821           361  ...                  94.52              996\n",
       "1822        1822           362  ...                  78.97             1001\n",
       "1823        1823           363  ...                  86.06             1006\n",
       "1824        1824           364  ...                  93.34             1001\n",
       "\n",
       "[5 rows x 10 columns]"
      ],
      "text/html": "<div>\n<style scoped>\n    .dataframe tbody tr th:only-of-type {\n        vertical-align: middle;\n    }\n\n    .dataframe tbody tr th {\n        vertical-align: top;\n    }\n\n    .dataframe thead th {\n        text-align: right;\n    }\n</style>\n<table border=\"1\" class=\"dataframe\">\n  <thead>\n    <tr style=\"text-align: right;\">\n      <th></th>\n      <th>Unnamed: 0</th>\n      <th>Unnamed: 0.1</th>\n      <th>Year</th>\n      <th>Month</th>\n      <th>Day</th>\n      <th>DHI (w/m2)</th>\n      <th>DNI (w/m2)</th>\n      <th>Wind Speed (m/s)</th>\n      <th>Relative Humidity (%)</th>\n      <th>Pressure (mbar)</th>\n    </tr>\n  </thead>\n  <tbody>\n    <tr>\n      <th>1820</th>\n      <td>1820</td>\n      <td>360</td>\n      <td>2019</td>\n      <td>12</td>\n      <td>27</td>\n      <td>26</td>\n      <td>53.0</td>\n      <td>0.6</td>\n      <td>86.61</td>\n      <td>1007</td>\n    </tr>\n    <tr>\n      <th>1821</th>\n      <td>1821</td>\n      <td>361</td>\n      <td>2019</td>\n      <td>12</td>\n      <td>28</td>\n      <td>30</td>\n      <td>76.0</td>\n      <td>0.8</td>\n      <td>94.52</td>\n      <td>996</td>\n    </tr>\n    <tr>\n      <th>1822</th>\n      <td>1822</td>\n      <td>362</td>\n      <td>2019</td>\n      <td>12</td>\n      <td>29</td>\n      <td>26</td>\n      <td>147.0</td>\n      <td>0.7</td>\n      <td>78.97</td>\n      <td>1001</td>\n    </tr>\n    <tr>\n      <th>1823</th>\n      <td>1823</td>\n      <td>363</td>\n      <td>2019</td>\n      <td>12</td>\n      <td>30</td>\n      <td>29</td>\n      <td>98.0</td>\n      <td>0.7</td>\n      <td>86.06</td>\n      <td>1006</td>\n    </tr>\n    <tr>\n      <th>1824</th>\n      <td>1824</td>\n      <td>364</td>\n      <td>2019</td>\n      <td>12</td>\n      <td>31</td>\n      <td>30</td>\n      <td>80.0</td>\n      <td>1.0</td>\n      <td>93.34</td>\n      <td>1001</td>\n    </tr>\n  </tbody>\n</table>\n</div>"
     },
     "metadata": {},
     "execution_count": 58
    }
   ],
   "source": [
    "halifax_weather_data.tail()"
   ]
  }
 ]
}