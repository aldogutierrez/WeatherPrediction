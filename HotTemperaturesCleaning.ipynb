{
 "metadata": {
  "language_info": {
   "codemirror_mode": {
    "name": "ipython",
    "version": 3
   },
   "file_extension": ".py",
   "mimetype": "text/x-python",
   "name": "python",
   "nbconvert_exporter": "python",
   "pygments_lexer": "ipython3",
   "version": "3.9.0-final"
  },
  "orig_nbformat": 2,
  "kernelspec": {
   "name": "python3",
   "display_name": "Python 3.9.0 64-bit ('3.9.0': pyenv)",
   "metadata": {
    "interpreter": {
     "hash": "09d2c832d263a7ee5e36179bf7671f9df5795cd2be116fa18a67c50cb415a003"
    }
   }
  }
 },
 "nbformat": 4,
 "nbformat_minor": 2,
 "cells": [
  {
   "cell_type": "markdown",
   "metadata": {},
   "source": [
    "# Hot Temperature Data Cleaning and Attribute Addition\n",
    "\n",
    "This notebook will utilize prepared data to compute the \"Feels Like\" temperature.\n",
    "\n",
    "This metric in weather prediction will add a weight to the high levels of humidity that can make a person lower the temperature in their thermostat.\n",
    "\n",
    "My goal for this notebook is to add a new attribute to weather data and use the heat index equation to make a new temperature."
   ]
  },
  {
   "cell_type": "code",
   "execution_count": 317,
   "metadata": {},
   "outputs": [
    {
     "output_type": "execute_result",
     "data": {
      "text/plain": [
       "   Unnamed: 0  Year  Month  Day  MaxTemp (F)  MinTemp (F)  Heat Index (F)  \\\n",
       "0           0  2015      1    1         84.0         66.0              95   \n",
       "1           1  2015      1    2         84.0         69.0              96   \n",
       "2           2  2015      1    3         83.0         74.0              92   \n",
       "3           3  2015      1    4         85.0         71.0              98   \n",
       "4           4  2015      1    5         85.0         67.0              99   \n",
       "\n",
       "   Average Wind Speed (mph)  Relative Humidity (%)  Users Thermostat (F)  \n",
       "0                       4.7                  85.12                    78  \n",
       "1                      10.3                  85.98                    76  \n",
       "2                      15.0                  84.27                    76  \n",
       "3                      11.4                  84.11                    78  \n",
       "4                       7.2                  86.44                    76  "
      ],
      "text/html": "<div>\n<style scoped>\n    .dataframe tbody tr th:only-of-type {\n        vertical-align: middle;\n    }\n\n    .dataframe tbody tr th {\n        vertical-align: top;\n    }\n\n    .dataframe thead th {\n        text-align: right;\n    }\n</style>\n<table border=\"1\" class=\"dataframe\">\n  <thead>\n    <tr style=\"text-align: right;\">\n      <th></th>\n      <th>Unnamed: 0</th>\n      <th>Year</th>\n      <th>Month</th>\n      <th>Day</th>\n      <th>MaxTemp (F)</th>\n      <th>MinTemp (F)</th>\n      <th>Heat Index (F)</th>\n      <th>Average Wind Speed (mph)</th>\n      <th>Relative Humidity (%)</th>\n      <th>Users Thermostat (F)</th>\n    </tr>\n  </thead>\n  <tbody>\n    <tr>\n      <th>0</th>\n      <td>0</td>\n      <td>2015</td>\n      <td>1</td>\n      <td>1</td>\n      <td>84.0</td>\n      <td>66.0</td>\n      <td>95</td>\n      <td>4.7</td>\n      <td>85.12</td>\n      <td>78</td>\n    </tr>\n    <tr>\n      <th>1</th>\n      <td>1</td>\n      <td>2015</td>\n      <td>1</td>\n      <td>2</td>\n      <td>84.0</td>\n      <td>69.0</td>\n      <td>96</td>\n      <td>10.3</td>\n      <td>85.98</td>\n      <td>76</td>\n    </tr>\n    <tr>\n      <th>2</th>\n      <td>2</td>\n      <td>2015</td>\n      <td>1</td>\n      <td>3</td>\n      <td>83.0</td>\n      <td>74.0</td>\n      <td>92</td>\n      <td>15.0</td>\n      <td>84.27</td>\n      <td>76</td>\n    </tr>\n    <tr>\n      <th>3</th>\n      <td>3</td>\n      <td>2015</td>\n      <td>1</td>\n      <td>4</td>\n      <td>85.0</td>\n      <td>71.0</td>\n      <td>98</td>\n      <td>11.4</td>\n      <td>84.11</td>\n      <td>78</td>\n    </tr>\n    <tr>\n      <th>4</th>\n      <td>4</td>\n      <td>2015</td>\n      <td>1</td>\n      <td>5</td>\n      <td>85.0</td>\n      <td>67.0</td>\n      <td>99</td>\n      <td>7.2</td>\n      <td>86.44</td>\n      <td>76</td>\n    </tr>\n  </tbody>\n</table>\n</div>"
     },
     "metadata": {},
     "execution_count": 317
    }
   ],
   "source": [
    "import pandas as pd\n",
    "import numpy as np\n",
    "\n",
    "# Load the data\n",
    "miamiTotalData = pd.read_csv('WeatherData/HotnHumid/miamiComplete_User.csv')\n",
    "# phoenixWeather = pd.read_csv('WeatherData/HotnDry/phoenix/phoenix_Weather_Solar.csv')\n",
    "\n",
    "miamiTotalData.head()"
   ]
  },
  {
   "cell_type": "code",
   "execution_count": 313,
   "metadata": {},
   "outputs": [],
   "source": [
    "miamiTotalData.insert(loc=6, column='Average Wind Speed (mph)', value=0, allow_duplicates=False)\n",
    "# phoenixWeather.insert(loc=5, column='Average Wind Speed (mph)', value=0, allow_duplicates=False)"
   ]
  },
  {
   "cell_type": "code",
   "execution_count": 314,
   "metadata": {},
   "outputs": [],
   "source": [
    "def ms_to_mph(wind_speed):\n",
    "    return round(wind_speed * 2.23694, 1)\n",
    "\n",
    "miamiTotalData['Average Wind Speed (mph)'] = miamiTotalData.apply(lambda row: ms_to_mph(row['Wind Speed (m/s)']), axis=1)\n",
    "# phoenixWeather['Average Wind Speed (mph)'] = phoenixWeather.apply(lambda row: ms_to_mph(row['Wind Speed (m/s)']), axis=1)\n",
    "\n",
    "miamiTotalData = miamiTotalData.drop(columns=['Wind Speed (m/s)'])\n",
    "# phoenixWeather = phoenixWeather.drop(columns=['Wind Speed (m/s)'])"
   ]
  },
  {
   "cell_type": "code",
   "execution_count": 316,
   "metadata": {},
   "outputs": [],
   "source": [
    "miamiTotalData.to_csv(path_or_buf='WeatherData/HotnHumid/miamiComplete_User.csv')"
   ]
  },
  {
   "source": [
    "When dealing with temperatures in locations where there is a consistent high percentage of humidity, it is advised to use\n",
    "the **heat index** equation. The **heat index** equation combines air temperature and relative humidity, in shaded areas, to posit a human-perceived equivalent temperature, as how hot it would feel if the humidity were some other value in the shade. \n",
    "\n",
    "The version of the [heat index equation](https://www.wpc.ncep.noaa.gov/html/heatindex_equation.shtml) I will use is published from the National Oceanic and Atmospheric Administration (NOAA)."
   ],
   "cell_type": "markdown",
   "metadata": {}
  },
  {
   "source": [
    "The NOAA supplies two versions of the **heat index equation** that vary between thresholds for both temperatures and relative humidities.\n",
    "\n",
    "It is recommended that the full analysis of the **heat index equation** starts with Steadman's regression and then tested, to be recomputed with\n",
    "Rothfusz's regression"
   ],
   "cell_type": "markdown",
   "metadata": {}
  },
  {
   "cell_type": "code",
   "execution_count": 274,
   "metadata": {
    "tags": []
   },
   "outputs": [],
   "source": [
    "from math import sqrt, fabs\n",
    "\n",
    "def rothfusz_heat_index_regression(temperature, relative_humidity):\n",
    "    \"\"\"[Computes the 'feels like' temperature based on Rothfusz's regression]\n",
    "\n",
    "    Args:\n",
    "        temperature (float): Temperature in Fahrenheit\n",
    "        relative_humidity (float): Relative humidity in percentage\n",
    "\n",
    "    Returns:\n",
    "        float: Adjusted heat index temperature\n",
    "    \"\"\"\n",
    "    T, RH = temperature, relative_humidity\n",
    "\n",
    "    added_adjustment = ((RH - 85)/10) * ((87 - T)/5)\n",
    "    subtracted_adjustment = ((13 - RH)/4) * sqrt(17 - fabs(T - 95) / 17)\n",
    "\n",
    "    heat_index = (-42.379) + (2.04901523)*(T) + (10.14333127)*(RH) - (0.22475541)*(T)*(RH)\n",
    "    heat_index = heat_index - (0.00683783)*(T)*(T) - (0.05481717)*(RH)*(RH) + (0.00122874)*(T)*(T)*(RH)\n",
    "    heat_index = heat_index + (0.00085282)*(T)*(RH)*(RH) - (0.00000199)*(T)*(T)*(RH)*(RH)\n",
    "\n",
    "    if ((RH < 13) and (80 < T < 112)):\n",
    "        heat_index -= subtracted_adjustment\n",
    "    elif ((RH > 85) and (80 < T < 87)):\n",
    "        heat_index += added_adjustment\n",
    "\n",
    "    return round(heat_index)"
   ]
  },
  {
   "cell_type": "code",
   "execution_count": 275,
   "metadata": {},
   "outputs": [],
   "source": [
    "def steadman_heat_index_regression(temperature, relative_humidity):\n",
    "    \"\"\"[Computes the 'feels like' temperature based on Steadman's regression]\n",
    "\n",
    "    Args:\n",
    "        temperature (float): Temperature in Fahrenheit\n",
    "        relative_humidity (float): Relative humidity in percentage\n",
    "\n",
    "    Returns:\n",
    "        float: Adjusted heat index temperature\n",
    "    \"\"\"\n",
    "    T, RH = temperature, relative_humidity\n",
    "    heat_index = (0.5) * (T + (61.0) + ((T - 68) * 1.2) + (RH * (0.094)))\n",
    "    \n",
    "    return round(heat_index)"
   ]
  },
  {
   "source": [
    "In practice, the Steadman's regression is computed first and the result averaged with the temperature.\n",
    "\n",
    "**If** this heat index value is 80°F or higher, the full regression equation along with any adjustment as described above is applied."
   ],
   "cell_type": "markdown",
   "metadata": {}
  },
  {
   "cell_type": "code",
   "execution_count": 276,
   "metadata": {},
   "outputs": [],
   "source": [
    "def heat_index(temperature, relative_humidity):\n",
    "    \"\"\"[Computes the 'feels like' temperature for usage]\n",
    "\n",
    "    Args:\n",
    "        temperature (float): Temperature in Fahrenheit\n",
    "        relative_humidity (float): Relative humidity in percentage\n",
    "\n",
    "    Returns:\n",
    "        float: Adjusted heat index temperature based on NOAA's recommendation\n",
    "    \"\"\"\n",
    "    T, RH = temperature, relative_humidity\n",
    "    \n",
    "    temp = steadman_heat_index_regression(temperature=T, relative_humidity=RH)\n",
    "    steadman = (0.5) * (temp + T)\n",
    "\n",
    "    rothfusz = rothfusz_heat_index_regression(temperature=T, relative_humidity=RH)\n",
    "\n",
    "    if (steadman >= 80):\n",
    "        return rothfusz\n",
    "    \n",
    "    return round(steadman)"
   ]
  },
  {
   "source": [
    "However, I noticed that some of our data is incomplete, as some values are missing.\n",
    "\n",
    "We will apply a fill function that will take the average of the temperatures and fill the empty cells."
   ],
   "cell_type": "markdown",
   "metadata": {}
  },
  {
   "cell_type": "code",
   "execution_count": 277,
   "metadata": {},
   "outputs": [
    {
     "output_type": "execute_result",
     "data": {
      "text/plain": [
       "Year                         0\n",
       "Month                        0\n",
       "Day                          0\n",
       "Max Temp (F)                24\n",
       "Min Temp (F)                37\n",
       "Average Wind Speed (mph)     0\n",
       "Relative Humidity (%)        0\n",
       "dtype: int64"
      ]
     },
     "metadata": {},
     "execution_count": 277
    }
   ],
   "source": [
    "phoenixWeather.isnull().sum()"
   ]
  },
  {
   "source": [
    "Here, we are able to see that there are missing values in the temperature columns.\n",
    "\n",
    "Since we have a lot of data, it'd be best if we just fill the missing values with the mean value for each of these columns."
   ],
   "cell_type": "markdown",
   "metadata": {}
  },
  {
   "cell_type": "code",
   "execution_count": 278,
   "metadata": {},
   "outputs": [],
   "source": [
    "lasvegasWeather['Max Temp (F)'].fillna(round(lasvegasWeather['Max Temp (F)'].mean()), inplace=True)\n",
    "lasvegasWeather['Min Temp (F)'].fillna(round(lasvegasWeather['Min Temp (F)'].mean()), inplace=True)\n",
    "\n",
    "phoenixWeather['Max Temp (F)'].fillna(round(phoenixWeather['Max Temp (F)'].mean()), inplace=True)\n",
    "phoenixWeather['Min Temp (F)'].fillna(round(phoenixWeather['Min Temp (F)'].mean()), inplace=True)"
   ]
  },
  {
   "cell_type": "code",
   "execution_count": 279,
   "metadata": {},
   "outputs": [
    {
     "output_type": "execute_result",
     "data": {
      "text/plain": [
       "Year                        0\n",
       "Month                       0\n",
       "Day                         0\n",
       "Max Temp (F)                0\n",
       "Min Temp (F)                0\n",
       "Average Wind Speed (mph)    0\n",
       "Relative Humidity (%)       0\n",
       "dtype: int64"
      ]
     },
     "metadata": {},
     "execution_count": 279
    }
   ],
   "source": [
    "phoenixWeather.isnull().sum()"
   ]
  },
  {
   "cell_type": "code",
   "execution_count": 280,
   "metadata": {},
   "outputs": [
    {
     "output_type": "execute_result",
     "data": {
      "text/plain": [
       "Year                        0\n",
       "Month                       0\n",
       "Day                         0\n",
       "Max Temp (F)                0\n",
       "Min Temp (F)                0\n",
       "Average Wind Speed (mph)    0\n",
       "Relative Humidity (%)       0\n",
       "dtype: int64"
      ]
     },
     "metadata": {},
     "execution_count": 280
    }
   ],
   "source": [
    "# We should be able to see that all the values from 'Min Temp (F)' are now filled\n",
    "lasvegasWeather.isnull().sum()"
   ]
  },
  {
   "cell_type": "code",
   "execution_count": 281,
   "metadata": {},
   "outputs": [],
   "source": [
    "# Creating a new attribute in the dataframe, this new attribute will be the \"feels like\" temperature\n",
    "lasvegasWeather.insert(loc=7, column='Heat Index (F)', value=0, allow_duplicates=False)\n",
    "phoenixWeather.insert(loc=7, column='Heat Index (F)', value=0, allow_duplicates=False)"
   ]
  },
  {
   "source": [
    "Now we have added an attribute that will contain the **heat index** or **feels like** temperature. Our function to create the number will be applied to the whole column."
   ],
   "cell_type": "markdown",
   "metadata": {}
  },
  {
   "cell_type": "code",
   "execution_count": 283,
   "metadata": {},
   "outputs": [
    {
     "output_type": "execute_result",
     "data": {
      "text/plain": [
       "      Year  Month  Day  Max Temp (F)  Min Temp (F)  Average Wind Speed (mph)  \\\n",
       "1820  2019     12   27          53.0          43.0                       6.9   \n",
       "1821  2019     12   28          50.0          38.0                       6.7   \n",
       "1822  2019     12   29          47.0          31.0                       2.2   \n",
       "1823  2019     12   30          55.0          35.0                       5.8   \n",
       "1824  2019     12   31          57.0          40.0                       7.8   \n",
       "\n",
       "      Relative Humidity (%)  Heat Index (F)  \n",
       "1820                     56              52  \n",
       "1821                     44              48  \n",
       "1822                     42              45  \n",
       "1823                     51              54  \n",
       "1824                     43              56  "
      ],
      "text/html": "<div>\n<style scoped>\n    .dataframe tbody tr th:only-of-type {\n        vertical-align: middle;\n    }\n\n    .dataframe tbody tr th {\n        vertical-align: top;\n    }\n\n    .dataframe thead th {\n        text-align: right;\n    }\n</style>\n<table border=\"1\" class=\"dataframe\">\n  <thead>\n    <tr style=\"text-align: right;\">\n      <th></th>\n      <th>Year</th>\n      <th>Month</th>\n      <th>Day</th>\n      <th>Max Temp (F)</th>\n      <th>Min Temp (F)</th>\n      <th>Average Wind Speed (mph)</th>\n      <th>Relative Humidity (%)</th>\n      <th>Heat Index (F)</th>\n    </tr>\n  </thead>\n  <tbody>\n    <tr>\n      <th>1820</th>\n      <td>2019</td>\n      <td>12</td>\n      <td>27</td>\n      <td>53.0</td>\n      <td>43.0</td>\n      <td>6.9</td>\n      <td>56</td>\n      <td>52</td>\n    </tr>\n    <tr>\n      <th>1821</th>\n      <td>2019</td>\n      <td>12</td>\n      <td>28</td>\n      <td>50.0</td>\n      <td>38.0</td>\n      <td>6.7</td>\n      <td>44</td>\n      <td>48</td>\n    </tr>\n    <tr>\n      <th>1822</th>\n      <td>2019</td>\n      <td>12</td>\n      <td>29</td>\n      <td>47.0</td>\n      <td>31.0</td>\n      <td>2.2</td>\n      <td>42</td>\n      <td>45</td>\n    </tr>\n    <tr>\n      <th>1823</th>\n      <td>2019</td>\n      <td>12</td>\n      <td>30</td>\n      <td>55.0</td>\n      <td>35.0</td>\n      <td>5.8</td>\n      <td>51</td>\n      <td>54</td>\n    </tr>\n    <tr>\n      <th>1824</th>\n      <td>2019</td>\n      <td>12</td>\n      <td>31</td>\n      <td>57.0</td>\n      <td>40.0</td>\n      <td>7.8</td>\n      <td>43</td>\n      <td>56</td>\n    </tr>\n  </tbody>\n</table>\n</div>"
     },
     "metadata": {},
     "execution_count": 283
    }
   ],
   "source": [
    "lasvegasWeather['Heat Index (F)'] = lasvegasWeather.apply(lambda row: heat_index(row['Max Temp (F)'], row['Relative Humidity (%)']), axis=1)\n",
    "\n",
    "phoenixWeather['Heat Index (F)'] = phoenixWeather.apply(lambda row: heat_index(row['Max Temp (F)'], row['Relative Humidity (%)']), axis=1)\n",
    "\n",
    "lasvegasWeather.tail()"
   ]
  },
  {
   "cell_type": "code",
   "execution_count": 298,
   "metadata": {},
   "outputs": [],
   "source": [
    "import random\n",
    "from time import gmtime\n",
    "from calendar import timegm\n",
    "from math import floor\n",
    "\n",
    "def user_heating(windchill_temperature):\n",
    "    # Gets the systems milliseconds since the epoch\n",
    "    mseconds = timegm(gmtime())\n",
    "    # Sets the milliseconds as the random seed for generation\n",
    "    rand_seed = random.seed(mseconds * random.random())\n",
    "\n",
    "    min_heat = 60\n",
    "    avg_heat = 66\n",
    "    max_heat = 71\n",
    "    if (windchill_temperature <= 45):\n",
    "        return random.randrange(avg_heat, max_heat, 1)\n",
    "    elif (windchill_temperature > 45):\n",
    "        return random.randrange(min_heat, avg_heat, 1)\n",
    "\n",
    "def user_cooling(feels_like_temperature):\n",
    "    # Gets the systems milliseconds since the epoch\n",
    "    mseconds = timegm(gmtime())\n",
    "    # Sets the milliseconds as the random seed for generation\n",
    "    rand_seed = random.seed(mseconds * random.random())\n",
    "\n",
    "    min_cool = 74\n",
    "    avg_cool = 79\n",
    "    max_cool = feels_like_temperature\n",
    "    if (feels_like_temperature >= 90):\n",
    "        return random.randrange(min_cool, avg_cool, 1)\n",
    "    elif (feels_like_temperature < 90):\n",
    "        return random.randrange(avg_cool, max_cool, 1)\n",
    "\n",
    "def user_normal(temperature):\n",
    "    return floor(temperature)\n",
    "\n",
    "def get_user_data(weighted_temperature):\n",
    "    if (weighted_temperature <= 64):\n",
    "        # The WHO recommends a minimum indoor temperature of 64 degrees Fahrenheit\n",
    "        return user_heating(windchill_temperature=weighted_temperature) # Run the heat\n",
    "    elif (weighted_temperature > 64 and weighted_temperature <= 79):\n",
    "        return user_normal(weighted_temperature) # The house is at room temperature\n",
    "    elif (weighted_temperature >= 80):\n",
    "        return user_cooling(feels_like_temperature=weighted_temperature) # Otherwise run the A/C"
   ]
  },
  {
   "cell_type": "code",
   "execution_count": 299,
   "metadata": {},
   "outputs": [
    {
     "output_type": "execute_result",
     "data": {
      "text/plain": [
       "    Year  Month  Day  Max Temp (F)  Min Temp (F)  Average Wind Speed (mph)  \\\n",
       "0   2015      1    1          44.0          27.0                       4.0   \n",
       "1   2015      1    2          48.0          26.0                       4.0   \n",
       "2   2015      1    3          51.0          29.0                       1.8   \n",
       "3   2015      1    4          51.0          31.0                       2.5   \n",
       "4   2015      1    5          59.0          34.0                       4.3   \n",
       "5   2015      1    6          68.0          38.0                       5.4   \n",
       "6   2015      1    7          72.0          43.0                       5.8   \n",
       "7   2015      1    8          69.0          43.0                       2.7   \n",
       "8   2015      1    9          65.0          42.0                       2.5   \n",
       "9   2015      1   10          65.0          47.0                       2.5   \n",
       "10  2015      1   11          55.0          48.0                       2.0   \n",
       "11  2015      1   12          60.0          46.0                       2.9   \n",
       "12  2015      1   13          60.0          46.0                       7.2   \n",
       "13  2015      1   14          59.0          41.0                       5.6   \n",
       "14  2015      1   15          59.0          36.0                       4.7   \n",
       "15  2015      1   16          59.0          37.0                       2.5   \n",
       "16  2015      1   17          64.0          38.0                       3.4   \n",
       "17  2015      1   18          62.0          42.0                       2.2   \n",
       "18  2015      1   19          65.0          43.0                       2.5   \n",
       "19  2015      1   20          59.0          41.0                       4.9   \n",
       "\n",
       "    Relative Humidity (%)  Heat Index (F)  Users Thermostat (F)  \n",
       "0                      40              42                    69  \n",
       "1                      40              46                    61  \n",
       "2                      45              50                    65  \n",
       "3                      52              50                    60  \n",
       "4                      51              58                    60  \n",
       "5                      53              68                    68  \n",
       "6                      53              72                    72  \n",
       "7                      50              68                    68  \n",
       "8                      52              64                    65  \n",
       "9                      66              64                    64  \n",
       "10                     92              55                    60  \n",
       "11                     88              60                    61  \n",
       "12                     62              60                    63  \n",
       "13                     53              58                    64  \n",
       "14                     47              58                    60  \n",
       "15                     40              58                    64  \n",
       "16                     43              63                    62  \n",
       "17                     48              61                    61  \n",
       "18                     47              64                    60  \n",
       "19                     63              58                    65  "
      ],
      "text/html": "<div>\n<style scoped>\n    .dataframe tbody tr th:only-of-type {\n        vertical-align: middle;\n    }\n\n    .dataframe tbody tr th {\n        vertical-align: top;\n    }\n\n    .dataframe thead th {\n        text-align: right;\n    }\n</style>\n<table border=\"1\" class=\"dataframe\">\n  <thead>\n    <tr style=\"text-align: right;\">\n      <th></th>\n      <th>Year</th>\n      <th>Month</th>\n      <th>Day</th>\n      <th>Max Temp (F)</th>\n      <th>Min Temp (F)</th>\n      <th>Average Wind Speed (mph)</th>\n      <th>Relative Humidity (%)</th>\n      <th>Heat Index (F)</th>\n      <th>Users Thermostat (F)</th>\n    </tr>\n  </thead>\n  <tbody>\n    <tr>\n      <th>0</th>\n      <td>2015</td>\n      <td>1</td>\n      <td>1</td>\n      <td>44.0</td>\n      <td>27.0</td>\n      <td>4.0</td>\n      <td>40</td>\n      <td>42</td>\n      <td>69</td>\n    </tr>\n    <tr>\n      <th>1</th>\n      <td>2015</td>\n      <td>1</td>\n      <td>2</td>\n      <td>48.0</td>\n      <td>26.0</td>\n      <td>4.0</td>\n      <td>40</td>\n      <td>46</td>\n      <td>61</td>\n    </tr>\n    <tr>\n      <th>2</th>\n      <td>2015</td>\n      <td>1</td>\n      <td>3</td>\n      <td>51.0</td>\n      <td>29.0</td>\n      <td>1.8</td>\n      <td>45</td>\n      <td>50</td>\n      <td>65</td>\n    </tr>\n    <tr>\n      <th>3</th>\n      <td>2015</td>\n      <td>1</td>\n      <td>4</td>\n      <td>51.0</td>\n      <td>31.0</td>\n      <td>2.5</td>\n      <td>52</td>\n      <td>50</td>\n      <td>60</td>\n    </tr>\n    <tr>\n      <th>4</th>\n      <td>2015</td>\n      <td>1</td>\n      <td>5</td>\n      <td>59.0</td>\n      <td>34.0</td>\n      <td>4.3</td>\n      <td>51</td>\n      <td>58</td>\n      <td>60</td>\n    </tr>\n    <tr>\n      <th>5</th>\n      <td>2015</td>\n      <td>1</td>\n      <td>6</td>\n      <td>68.0</td>\n      <td>38.0</td>\n      <td>5.4</td>\n      <td>53</td>\n      <td>68</td>\n      <td>68</td>\n    </tr>\n    <tr>\n      <th>6</th>\n      <td>2015</td>\n      <td>1</td>\n      <td>7</td>\n      <td>72.0</td>\n      <td>43.0</td>\n      <td>5.8</td>\n      <td>53</td>\n      <td>72</td>\n      <td>72</td>\n    </tr>\n    <tr>\n      <th>7</th>\n      <td>2015</td>\n      <td>1</td>\n      <td>8</td>\n      <td>69.0</td>\n      <td>43.0</td>\n      <td>2.7</td>\n      <td>50</td>\n      <td>68</td>\n      <td>68</td>\n    </tr>\n    <tr>\n      <th>8</th>\n      <td>2015</td>\n      <td>1</td>\n      <td>9</td>\n      <td>65.0</td>\n      <td>42.0</td>\n      <td>2.5</td>\n      <td>52</td>\n      <td>64</td>\n      <td>65</td>\n    </tr>\n    <tr>\n      <th>9</th>\n      <td>2015</td>\n      <td>1</td>\n      <td>10</td>\n      <td>65.0</td>\n      <td>47.0</td>\n      <td>2.5</td>\n      <td>66</td>\n      <td>64</td>\n      <td>64</td>\n    </tr>\n    <tr>\n      <th>10</th>\n      <td>2015</td>\n      <td>1</td>\n      <td>11</td>\n      <td>55.0</td>\n      <td>48.0</td>\n      <td>2.0</td>\n      <td>92</td>\n      <td>55</td>\n      <td>60</td>\n    </tr>\n    <tr>\n      <th>11</th>\n      <td>2015</td>\n      <td>1</td>\n      <td>12</td>\n      <td>60.0</td>\n      <td>46.0</td>\n      <td>2.9</td>\n      <td>88</td>\n      <td>60</td>\n      <td>61</td>\n    </tr>\n    <tr>\n      <th>12</th>\n      <td>2015</td>\n      <td>1</td>\n      <td>13</td>\n      <td>60.0</td>\n      <td>46.0</td>\n      <td>7.2</td>\n      <td>62</td>\n      <td>60</td>\n      <td>63</td>\n    </tr>\n    <tr>\n      <th>13</th>\n      <td>2015</td>\n      <td>1</td>\n      <td>14</td>\n      <td>59.0</td>\n      <td>41.0</td>\n      <td>5.6</td>\n      <td>53</td>\n      <td>58</td>\n      <td>64</td>\n    </tr>\n    <tr>\n      <th>14</th>\n      <td>2015</td>\n      <td>1</td>\n      <td>15</td>\n      <td>59.0</td>\n      <td>36.0</td>\n      <td>4.7</td>\n      <td>47</td>\n      <td>58</td>\n      <td>60</td>\n    </tr>\n    <tr>\n      <th>15</th>\n      <td>2015</td>\n      <td>1</td>\n      <td>16</td>\n      <td>59.0</td>\n      <td>37.0</td>\n      <td>2.5</td>\n      <td>40</td>\n      <td>58</td>\n      <td>64</td>\n    </tr>\n    <tr>\n      <th>16</th>\n      <td>2015</td>\n      <td>1</td>\n      <td>17</td>\n      <td>64.0</td>\n      <td>38.0</td>\n      <td>3.4</td>\n      <td>43</td>\n      <td>63</td>\n      <td>62</td>\n    </tr>\n    <tr>\n      <th>17</th>\n      <td>2015</td>\n      <td>1</td>\n      <td>18</td>\n      <td>62.0</td>\n      <td>42.0</td>\n      <td>2.2</td>\n      <td>48</td>\n      <td>61</td>\n      <td>61</td>\n    </tr>\n    <tr>\n      <th>18</th>\n      <td>2015</td>\n      <td>1</td>\n      <td>19</td>\n      <td>65.0</td>\n      <td>43.0</td>\n      <td>2.5</td>\n      <td>47</td>\n      <td>64</td>\n      <td>60</td>\n    </tr>\n    <tr>\n      <th>19</th>\n      <td>2015</td>\n      <td>1</td>\n      <td>20</td>\n      <td>59.0</td>\n      <td>41.0</td>\n      <td>4.9</td>\n      <td>63</td>\n      <td>58</td>\n      <td>65</td>\n    </tr>\n  </tbody>\n</table>\n</div>"
     },
     "metadata": {},
     "execution_count": 299
    }
   ],
   "source": [
    "# lasvegasWeather.insert(loc=8, column='Users Thermostat (F)', value=0, allow_duplicates=False)\n",
    "# phoenixWeather.insert(loc=8, column='Users Thermostat (F)', value=0, allow_duplicates=False)\n",
    "\n",
    "lasvegasWeather['Users Thermostat (F)'] = lasvegasWeather.apply(lambda row: get_user_data(row['Heat Index (F)']), axis=1)\n",
    "phoenixWeather['Users Thermostat (F)'] = phoenixWeather.apply(lambda row: get_user_data(row['Heat Index (F)']), axis=1)\n",
    "\n",
    "lasvegasWeather.head(20)"
   ]
  },
  {
   "cell_type": "code",
   "execution_count": 304,
   "metadata": {},
   "outputs": [],
   "source": [
    "lasvegasWeather.to_csv(path_or_buf='WeatherData/HotnDry/lasVegas/lasVegasComplete_User.csv')\n",
    "phoenixWeather.to_csv(path_or_buf='WeatherData/HotnDry/phoenix/phoenixComplete_User.csv')"
   ]
  }
 ]
}