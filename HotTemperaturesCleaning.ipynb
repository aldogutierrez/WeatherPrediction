{
 "metadata": {
  "language_info": {
   "codemirror_mode": {
    "name": "ipython",
    "version": 3
   },
   "file_extension": ".py",
   "mimetype": "text/x-python",
   "name": "python",
   "nbconvert_exporter": "python",
   "pygments_lexer": "ipython3",
   "version": "3.9.0-final"
  },
  "orig_nbformat": 2,
  "kernelspec": {
   "name": "python3",
   "display_name": "Python 3.9.0 64-bit ('3.9.0')",
   "metadata": {
    "interpreter": {
     "hash": "09d2c832d263a7ee5e36179bf7671f9df5795cd2be116fa18a67c50cb415a003"
    }
   }
  }
 },
 "nbformat": 4,
 "nbformat_minor": 2,
 "cells": [
  {
   "cell_type": "markdown",
   "metadata": {},
   "source": [
    "# Hot Temperature Data Cleaning and Attribute Addition\n",
    "\n",
    "This notebook will utilize prepared data to compute the \"Feels Like\" temperature.\n",
    "\n",
    "This metric in weather prediction will add a weight to the high levels of humidity that can make a person lower the temperature in their thermostat.\n",
    "\n",
    "My goal for this notebook is to add a new attribute to weather data and use the heat index equation to make a new temperature."
   ]
  },
  {
   "cell_type": "code",
   "execution_count": 13,
   "metadata": {},
   "outputs": [
    {
     "output_type": "execute_result",
     "data": {
      "text/plain": [
       "   Year  Month  Day  MaxTemp (F)  MinTemp (F)  DHI (w/m2)  DNI (w/m2)  \\\n",
       "0  2015      1    1         84.0         66.0          61         159   \n",
       "1  2015      1    2         84.0         69.0          54         215   \n",
       "2  2015      1    3         83.0         74.0          79         122   \n",
       "3  2015      1    4         85.0         71.0          49         240   \n",
       "4  2015      1    5         85.0         67.0          32         309   \n",
       "\n",
       "   Wind Speed (m/s)  Relative Humidity (%)  Pressure (mbar)  \n",
       "0               2.1                  85.12             1018  \n",
       "1               4.6                  85.98             1020  \n",
       "2               6.7                  84.27             1020  \n",
       "3               5.1                  84.11             1020  \n",
       "4               3.2                  86.44             1020  "
      ],
      "text/html": "<div>\n<style scoped>\n    .dataframe tbody tr th:only-of-type {\n        vertical-align: middle;\n    }\n\n    .dataframe tbody tr th {\n        vertical-align: top;\n    }\n\n    .dataframe thead th {\n        text-align: right;\n    }\n</style>\n<table border=\"1\" class=\"dataframe\">\n  <thead>\n    <tr style=\"text-align: right;\">\n      <th></th>\n      <th>Year</th>\n      <th>Month</th>\n      <th>Day</th>\n      <th>MaxTemp (F)</th>\n      <th>MinTemp (F)</th>\n      <th>DHI (w/m2)</th>\n      <th>DNI (w/m2)</th>\n      <th>Wind Speed (m/s)</th>\n      <th>Relative Humidity (%)</th>\n      <th>Pressure (mbar)</th>\n    </tr>\n  </thead>\n  <tbody>\n    <tr>\n      <th>0</th>\n      <td>2015</td>\n      <td>1</td>\n      <td>1</td>\n      <td>84.0</td>\n      <td>66.0</td>\n      <td>61</td>\n      <td>159</td>\n      <td>2.1</td>\n      <td>85.12</td>\n      <td>1018</td>\n    </tr>\n    <tr>\n      <th>1</th>\n      <td>2015</td>\n      <td>1</td>\n      <td>2</td>\n      <td>84.0</td>\n      <td>69.0</td>\n      <td>54</td>\n      <td>215</td>\n      <td>4.6</td>\n      <td>85.98</td>\n      <td>1020</td>\n    </tr>\n    <tr>\n      <th>2</th>\n      <td>2015</td>\n      <td>1</td>\n      <td>3</td>\n      <td>83.0</td>\n      <td>74.0</td>\n      <td>79</td>\n      <td>122</td>\n      <td>6.7</td>\n      <td>84.27</td>\n      <td>1020</td>\n    </tr>\n    <tr>\n      <th>3</th>\n      <td>2015</td>\n      <td>1</td>\n      <td>4</td>\n      <td>85.0</td>\n      <td>71.0</td>\n      <td>49</td>\n      <td>240</td>\n      <td>5.1</td>\n      <td>84.11</td>\n      <td>1020</td>\n    </tr>\n    <tr>\n      <th>4</th>\n      <td>2015</td>\n      <td>1</td>\n      <td>5</td>\n      <td>85.0</td>\n      <td>67.0</td>\n      <td>32</td>\n      <td>309</td>\n      <td>3.2</td>\n      <td>86.44</td>\n      <td>1020</td>\n    </tr>\n  </tbody>\n</table>\n</div>"
     },
     "metadata": {},
     "execution_count": 13
    }
   ],
   "source": [
    "import pandas as pd\n",
    "import numpy as np\n",
    "\n",
    "# Load the data\n",
    "miamiTotalData = pd.read_csv('WeatherData/HotnHumid/miamiSolar/miamiWeatherSolarTotal.csv')\n",
    "\n",
    "miamiTotalData = miamiTotalData.drop(['Unnamed: 0'], axis=1)\n",
    "miamiTotalData.head()"
   ]
  },
  {
   "source": [
    "When dealing with temperatures in locations where there is a consistent high percentage of humidity, it is advised to use\n",
    "the **heat index** equation. The **heat index** equation combines air temperature and relative humidity, in shaded areas, to posit a human-perceived equivalent temperature, as how hot it would feel if the humidity were some other value in the shade. \n",
    "\n",
    "The version of the [heat index equation](https://www.wpc.ncep.noaa.gov/html/heatindex_equation.shtml) I will use is published from the National Oceanic and Atmospheric Administration (NOAA)."
   ],
   "cell_type": "markdown",
   "metadata": {}
  },
  {
   "source": [
    "The NOAA supplies two versions of the **heat index equation** that vary between thresholds for both temperatures and relative humidities.\n",
    "\n",
    "It is recommended that the full analysis of the **heat index equation** starts with Steadman's regression and then tested, to be recomputed with\n",
    "Rothfusz's regression"
   ],
   "cell_type": "markdown",
   "metadata": {}
  },
  {
   "cell_type": "code",
   "execution_count": 14,
   "metadata": {
    "tags": []
   },
   "outputs": [],
   "source": [
    "from math import sqrt, fabs\n",
    "\n",
    "def rothfusz_heat_index_regression(temperature, relative_humidity):\n",
    "    \"\"\"[Computes the 'feels like' temperature based on Rothfusz's regression]\n",
    "\n",
    "    Args:\n",
    "        temperature (float): Temperature in Fahrenheit\n",
    "        relative_humidity (float): Relative humidity in percentage\n",
    "\n",
    "    Returns:\n",
    "        float: Adjusted heat index temperature\n",
    "    \"\"\"\n",
    "    T, RH = temperature, relative_humidity\n",
    "\n",
    "    added_adjustment = ((RH - 85)/10) * ((87 - T)/5)\n",
    "    subtracted_adjustment = ((13 - RH)/4) * sqrt(17 - fabs(T - 95) / 17)\n",
    "\n",
    "    heat_index = (-42.379) + (2.04901523)*(T) + (10.14333127)*(RH) - (0.22475541)*(T)*(RH)\n",
    "    heat_index = heat_index - (0.00683783)*(T)*(T) - (0.05481717)*(RH)*(RH) + (0.00122874)*(T)*(T)*(RH)\n",
    "    heat_index = heat_index + (0.00085282)*(T)*(RH)*(RH) - (0.00000199)*(T)*(T)*(RH)*(RH)\n",
    "\n",
    "    if ((RH < 13) and (80 < T < 112)):\n",
    "        heat_index -= subtracted_adjustment\n",
    "    elif ((RH > 85) and (80 < T < 87)):\n",
    "        heat_index += added_adjustment\n",
    "\n",
    "    return round(heat_index, 2)"
   ]
  },
  {
   "cell_type": "code",
   "execution_count": 15,
   "metadata": {},
   "outputs": [],
   "source": [
    "def steadman_heat_index_regression(temperature, relative_humidity):\n",
    "    \"\"\"[Computes the 'feels like' temperature based on Steadman's regression]\n",
    "\n",
    "    Args:\n",
    "        temperature (float): Temperature in Fahrenheit\n",
    "        relative_humidity (float): Relative humidity in percentage\n",
    "\n",
    "    Returns:\n",
    "        float: Adjusted heat index temperature\n",
    "    \"\"\"\n",
    "    T, RH = temperature, relative_humidity\n",
    "    heat_index = (0.5) * (T + (61.0) + ((T - 68) * 1.2) + (RH * (0.094)))\n",
    "    \n",
    "    return round(heat_index, 2)"
   ]
  },
  {
   "source": [
    "In practice, the Steadman's regression is computed first and the result averaged with the temperature.\n",
    "\n",
    "**If** this heat index value is 80°F or higher, the full regression equation along with any adjustment as described above is applied."
   ],
   "cell_type": "markdown",
   "metadata": {}
  },
  {
   "cell_type": "code",
   "execution_count": 50,
   "metadata": {},
   "outputs": [],
   "source": [
    "def heat_index(temperature, relative_humidity):\n",
    "    \"\"\"[Computes the 'feels like' temperature for usage]\n",
    "\n",
    "    Args:\n",
    "        temperature (float): Temperature in Fahrenheit\n",
    "        relative_humidity (float): Relative humidity in percentage\n",
    "\n",
    "    Returns:\n",
    "        float: Adjusted heat index temperature based on NOAA's recommendation\n",
    "    \"\"\"\n",
    "    T, RH = temperature, relative_humidity\n",
    "    \n",
    "    temp = steadman_heat_index_regression(temperature=T, relative_humidity=RH)\n",
    "    steadman = (0.5) * (temp + T)\n",
    "\n",
    "    rothfusz = rothfusz_heat_index_regression(temperature=T, relative_humidity=RH)\n",
    "\n",
    "    if (steadman >= 80):\n",
    "        return rothfusz\n",
    "    \n",
    "    return steadman"
   ]
  },
  {
   "source": [
    "However, I noticed that some of our data is incomplete, as some values are missing.\n",
    "\n",
    "We will apply a fill function that will take the average of the temperatures and fill the empty cells."
   ],
   "cell_type": "markdown",
   "metadata": {}
  },
  {
   "cell_type": "code",
   "execution_count": 17,
   "metadata": {},
   "outputs": [
    {
     "output_type": "execute_result",
     "data": {
      "text/plain": [
       "Year                      0\n",
       "Month                     0\n",
       "Day                       0\n",
       "MaxTemp (F)              17\n",
       "MinTemp (F)              16\n",
       "DHI (w/m2)                0\n",
       "DNI (w/m2)                0\n",
       "Wind Speed (m/s)          0\n",
       "Relative Humidity (%)     0\n",
       "Pressure (mbar)           0\n",
       "dtype: int64"
      ]
     },
     "metadata": {},
     "execution_count": 17
    }
   ],
   "source": [
    "miamiTotalData.isnull().sum()"
   ]
  },
  {
   "source": [
    "Here, we are able to see that there are missing values in the temperature columns.\n",
    "\n",
    "Since we have a lot of data, it'd be best if we just fill the missing values with the mean value for each of these columns."
   ],
   "cell_type": "markdown",
   "metadata": {}
  },
  {
   "cell_type": "code",
   "execution_count": 18,
   "metadata": {},
   "outputs": [],
   "source": [
    "miamiTotalData['MaxTemp (F)'].fillna(round(miamiTotalData['MaxTemp (F)'].mean(), 2), inplace=True)"
   ]
  },
  {
   "cell_type": "code",
   "execution_count": 19,
   "metadata": {},
   "outputs": [
    {
     "output_type": "execute_result",
     "data": {
      "text/plain": [
       "Year                      0\n",
       "Month                     0\n",
       "Day                       0\n",
       "MaxTemp (F)               0\n",
       "MinTemp (F)              16\n",
       "DHI (w/m2)                0\n",
       "DNI (w/m2)                0\n",
       "Wind Speed (m/s)          0\n",
       "Relative Humidity (%)     0\n",
       "Pressure (mbar)           0\n",
       "dtype: int64"
      ]
     },
     "metadata": {},
     "execution_count": 19
    }
   ],
   "source": [
    "miamiTotalData.isnull().sum()"
   ]
  },
  {
   "cell_type": "code",
   "execution_count": 43,
   "metadata": {},
   "outputs": [
    {
     "output_type": "execute_result",
     "data": {
      "text/plain": [
       "Year                     0\n",
       "Month                    0\n",
       "Day                      0\n",
       "MaxTemp (F)              0\n",
       "MinTemp (F)              0\n",
       "Heat Index (F)           0\n",
       "DHI (w/m2)               0\n",
       "DNI (w/m2)               0\n",
       "Wind Speed (m/s)         0\n",
       "Relative Humidity (%)    0\n",
       "Pressure (mbar)          0\n",
       "dtype: int64"
      ]
     },
     "metadata": {},
     "execution_count": 43
    }
   ],
   "source": [
    "# For the minimum temperature there are some null values that we have to fill fortunately,\n",
    "# there are not a lot, so we can just substitute those for the attribute's average\n",
    "miamiTotalData['MinTemp (F)'].fillna(round(miamiTotalData['MinTemp (F)'].mean(), 2), inplace=True)\n",
    "\n",
    "# We should be able to see that all the values from 'MinTemp (F)' are now filled\n",
    "miamiTotalData.isnull().sum()"
   ]
  },
  {
   "cell_type": "code",
   "execution_count": 21,
   "metadata": {},
   "outputs": [],
   "source": [
    "# Creating a new attribute in the dataframe, this new attribute will be the \"feels like\" temperature\n",
    "miamiTotalData.insert(loc=5, column='Heat Index (F)', value=0, allow_duplicates=False)"
   ]
  },
  {
   "source": [
    "Now we have added an attribute that will contain the **heat index** or **feels like** temperature. Our function to create the number will be applied to the whole column."
   ],
   "cell_type": "markdown",
   "metadata": {}
  },
  {
   "cell_type": "code",
   "execution_count": 42,
   "metadata": {},
   "outputs": [
    {
     "output_type": "execute_result",
     "data": {
      "text/plain": [
       "      Year  Month  Day  MaxTemp (F)  MinTemp (F)  Heat Index (F)  DHI (w/m2)  \\\n",
       "1820  2019     12   27        82.00         72.0           91.28          44   \n",
       "1821  2019     12   28        81.00         72.0           88.93          53   \n",
       "1822  2019     12   29        80.00         73.0           85.46          62   \n",
       "1823  2019     12   30        79.00         67.0           79.92          66   \n",
       "1824  2019     12   31        85.82         59.0          100.81          44   \n",
       "\n",
       "      DNI (w/m2)  Wind Speed (m/s)  Relative Humidity (%)  Pressure (mbar)  \n",
       "1820         247               5.2                  88.14             1017  \n",
       "1821         138               5.7                  89.57             1017  \n",
       "1822         119               5.5                  88.79             1016  \n",
       "1823          25               3.3                  90.15             1014  \n",
       "1824         170               3.5                  83.05             1017  "
      ],
      "text/html": "<div>\n<style scoped>\n    .dataframe tbody tr th:only-of-type {\n        vertical-align: middle;\n    }\n\n    .dataframe tbody tr th {\n        vertical-align: top;\n    }\n\n    .dataframe thead th {\n        text-align: right;\n    }\n</style>\n<table border=\"1\" class=\"dataframe\">\n  <thead>\n    <tr style=\"text-align: right;\">\n      <th></th>\n      <th>Year</th>\n      <th>Month</th>\n      <th>Day</th>\n      <th>MaxTemp (F)</th>\n      <th>MinTemp (F)</th>\n      <th>Heat Index (F)</th>\n      <th>DHI (w/m2)</th>\n      <th>DNI (w/m2)</th>\n      <th>Wind Speed (m/s)</th>\n      <th>Relative Humidity (%)</th>\n      <th>Pressure (mbar)</th>\n    </tr>\n  </thead>\n  <tbody>\n    <tr>\n      <th>1820</th>\n      <td>2019</td>\n      <td>12</td>\n      <td>27</td>\n      <td>82.00</td>\n      <td>72.0</td>\n      <td>91.28</td>\n      <td>44</td>\n      <td>247</td>\n      <td>5.2</td>\n      <td>88.14</td>\n      <td>1017</td>\n    </tr>\n    <tr>\n      <th>1821</th>\n      <td>2019</td>\n      <td>12</td>\n      <td>28</td>\n      <td>81.00</td>\n      <td>72.0</td>\n      <td>88.93</td>\n      <td>53</td>\n      <td>138</td>\n      <td>5.7</td>\n      <td>89.57</td>\n      <td>1017</td>\n    </tr>\n    <tr>\n      <th>1822</th>\n      <td>2019</td>\n      <td>12</td>\n      <td>29</td>\n      <td>80.00</td>\n      <td>73.0</td>\n      <td>85.46</td>\n      <td>62</td>\n      <td>119</td>\n      <td>5.5</td>\n      <td>88.79</td>\n      <td>1016</td>\n    </tr>\n    <tr>\n      <th>1823</th>\n      <td>2019</td>\n      <td>12</td>\n      <td>30</td>\n      <td>79.00</td>\n      <td>67.0</td>\n      <td>79.92</td>\n      <td>66</td>\n      <td>25</td>\n      <td>3.3</td>\n      <td>90.15</td>\n      <td>1014</td>\n    </tr>\n    <tr>\n      <th>1824</th>\n      <td>2019</td>\n      <td>12</td>\n      <td>31</td>\n      <td>85.82</td>\n      <td>59.0</td>\n      <td>100.81</td>\n      <td>44</td>\n      <td>170</td>\n      <td>3.5</td>\n      <td>83.05</td>\n      <td>1017</td>\n    </tr>\n  </tbody>\n</table>\n</div>"
     },
     "metadata": {},
     "execution_count": 42
    }
   ],
   "source": [
    "miamiTotalData['Heat Index (F)'] = miamiTotalData.apply(lambda row: heat_index(row['MaxTemp (F)'], row['Relative Humidity (%)']), axis=1)\n",
    "\n",
    "miamiTotalData.tail()"
   ]
  },
  {
   "cell_type": "code",
   "execution_count": 56,
   "metadata": {},
   "outputs": [
    {
     "output_type": "stream",
     "name": "stdout",
     "text": [
      "62.75\nNone\n"
     ]
    }
   ],
   "source": [
    "def user_heating(feels_like_temperature):\n",
    "    min_heat = 60\n",
    "    avg_heat = 63\n",
    "    max_heat = 70\n",
    "\n"
   ]
  }
 ]
}