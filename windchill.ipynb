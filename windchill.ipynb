{
 "metadata": {
  "language_info": {
   "codemirror_mode": {
    "name": "ipython",
    "version": 3
   },
   "file_extension": ".py",
   "mimetype": "text/x-python",
   "name": "python",
   "nbconvert_exporter": "python",
   "pygments_lexer": "ipython3",
   "version": "3.8.3-final"
  },
  "orig_nbformat": 2,
  "kernelspec": {
   "name": "python3",
   "display_name": "Python 3"
  }
 },
 "nbformat": 4,
 "nbformat_minor": 2,
 "cells": [
  {
   "cell_type": "code",
   "execution_count": 189,
   "metadata": {},
   "outputs": [
    {
     "output_type": "execute_result",
     "data": {
      "text/plain": [
       "   Year  Month  Day  ...  Min Temp (F)  Wind Speed (m/s)  Relative Humidity (%)\n",
       "0  2015      1    1  ...          5.18               0.2                  75.54\n",
       "1  2015      1    2  ...         13.64               0.4                  73.16\n",
       "2  2015      1    3  ...          5.36               0.4                  54.87\n",
       "3  2015      1    4  ...          7.88               0.4                  86.75\n",
       "4  2015      1    5  ...          9.14               0.6                  81.97\n",
       "\n",
       "[5 rows x 7 columns]"
      ],
      "text/html": "<div>\n<style scoped>\n    .dataframe tbody tr th:only-of-type {\n        vertical-align: middle;\n    }\n\n    .dataframe tbody tr th {\n        vertical-align: top;\n    }\n\n    .dataframe thead th {\n        text-align: right;\n    }\n</style>\n<table border=\"1\" class=\"dataframe\">\n  <thead>\n    <tr style=\"text-align: right;\">\n      <th></th>\n      <th>Year</th>\n      <th>Month</th>\n      <th>Day</th>\n      <th>Max Temp (F)</th>\n      <th>Min Temp (F)</th>\n      <th>Wind Speed (m/s)</th>\n      <th>Relative Humidity (%)</th>\n    </tr>\n  </thead>\n  <tbody>\n    <tr>\n      <th>0</th>\n      <td>2015</td>\n      <td>1</td>\n      <td>1</td>\n      <td>28.04</td>\n      <td>5.18</td>\n      <td>0.2</td>\n      <td>75.54</td>\n    </tr>\n    <tr>\n      <th>1</th>\n      <td>2015</td>\n      <td>1</td>\n      <td>2</td>\n      <td>34.34</td>\n      <td>13.64</td>\n      <td>0.4</td>\n      <td>73.16</td>\n    </tr>\n    <tr>\n      <th>2</th>\n      <td>2015</td>\n      <td>1</td>\n      <td>3</td>\n      <td>14.00</td>\n      <td>5.36</td>\n      <td>0.4</td>\n      <td>54.87</td>\n    </tr>\n    <tr>\n      <th>3</th>\n      <td>2015</td>\n      <td>1</td>\n      <td>4</td>\n      <td>46.58</td>\n      <td>7.88</td>\n      <td>0.4</td>\n      <td>86.75</td>\n    </tr>\n    <tr>\n      <th>4</th>\n      <td>2015</td>\n      <td>1</td>\n      <td>5</td>\n      <td>46.76</td>\n      <td>9.14</td>\n      <td>0.6</td>\n      <td>81.97</td>\n    </tr>\n  </tbody>\n</table>\n</div>"
     },
     "metadata": {},
     "execution_count": 189
    }
   ],
   "source": [
    "import pandas as pd\n",
    "\n",
    "halifax_weather = pd.read_csv('WeatherData/ColdnHumid/halifax_Weather_Solar.csv')\n",
    "halifax_weather = halifax_weather.drop(columns=['DHI (w/m2)', 'DNI (w/m2)', 'Pressure (mbar)'])\n",
    "\n",
    "halifax_weather.head()"
   ]
  },
  {
   "cell_type": "code",
   "execution_count": 190,
   "metadata": {},
   "outputs": [],
   "source": [
    "def ms_to_mph(wind_speed):\n",
    "    return round(wind_speed * 2.23694, 1)"
   ]
  },
  {
   "cell_type": "code",
   "execution_count": 191,
   "metadata": {},
   "outputs": [],
   "source": [
    "halifax_weather.insert(loc=5, column='Average Wind Speed (mph)', value=0, allow_duplicates=False)"
   ]
  },
  {
   "cell_type": "code",
   "execution_count": 192,
   "metadata": {},
   "outputs": [],
   "source": [
    "halifax_weather['Average Wind Speed (mph)'] = halifax_weather.apply(lambda row: ms_to_mph(row['Wind Speed (m/s)']), axis=1)"
   ]
  },
  {
   "cell_type": "code",
   "execution_count": 193,
   "metadata": {},
   "outputs": [
    {
     "output_type": "execute_result",
     "data": {
      "text/plain": [
       "   Year  Month  ...  Average Wind Speed (mph)  Relative Humidity (%)\n",
       "0  2015      1  ...                       0.4                  75.54\n",
       "1  2015      1  ...                       0.9                  73.16\n",
       "2  2015      1  ...                       0.9                  54.87\n",
       "3  2015      1  ...                       0.9                  86.75\n",
       "4  2015      1  ...                       1.3                  81.97\n",
       "\n",
       "[5 rows x 7 columns]"
      ],
      "text/html": "<div>\n<style scoped>\n    .dataframe tbody tr th:only-of-type {\n        vertical-align: middle;\n    }\n\n    .dataframe tbody tr th {\n        vertical-align: top;\n    }\n\n    .dataframe thead th {\n        text-align: right;\n    }\n</style>\n<table border=\"1\" class=\"dataframe\">\n  <thead>\n    <tr style=\"text-align: right;\">\n      <th></th>\n      <th>Year</th>\n      <th>Month</th>\n      <th>Day</th>\n      <th>Max Temp (F)</th>\n      <th>Min Temp (F)</th>\n      <th>Average Wind Speed (mph)</th>\n      <th>Relative Humidity (%)</th>\n    </tr>\n  </thead>\n  <tbody>\n    <tr>\n      <th>0</th>\n      <td>2015</td>\n      <td>1</td>\n      <td>1</td>\n      <td>28.04</td>\n      <td>5.18</td>\n      <td>0.4</td>\n      <td>75.54</td>\n    </tr>\n    <tr>\n      <th>1</th>\n      <td>2015</td>\n      <td>1</td>\n      <td>2</td>\n      <td>34.34</td>\n      <td>13.64</td>\n      <td>0.9</td>\n      <td>73.16</td>\n    </tr>\n    <tr>\n      <th>2</th>\n      <td>2015</td>\n      <td>1</td>\n      <td>3</td>\n      <td>14.00</td>\n      <td>5.36</td>\n      <td>0.9</td>\n      <td>54.87</td>\n    </tr>\n    <tr>\n      <th>3</th>\n      <td>2015</td>\n      <td>1</td>\n      <td>4</td>\n      <td>46.58</td>\n      <td>7.88</td>\n      <td>0.9</td>\n      <td>86.75</td>\n    </tr>\n    <tr>\n      <th>4</th>\n      <td>2015</td>\n      <td>1</td>\n      <td>5</td>\n      <td>46.76</td>\n      <td>9.14</td>\n      <td>1.3</td>\n      <td>81.97</td>\n    </tr>\n  </tbody>\n</table>\n</div>"
     },
     "metadata": {},
     "execution_count": 193
    }
   ],
   "source": [
    "halifax_weather = halifax_weather.drop(columns=['Wind Speed (m/s)'])\n",
    "halifax_weather.head()"
   ]
  },
  {
   "cell_type": "code",
   "execution_count": 194,
   "metadata": {},
   "outputs": [],
   "source": [
    "halifax_weather['Max Temp (F)'] = halifax_weather.apply(lambda row: round(row['Max Temp (F)']), axis=1)\n",
    "halifax_weather['Min Temp (F)'] = halifax_weather.apply(lambda row: round(row['Min Temp (F)']), axis=1)\n",
    "halifax_weather['Relative Humidity (%)'] = halifax_weather.apply(lambda row: round(row['Relative Humidity (%)']), axis=1)"
   ]
  },
  {
   "cell_type": "code",
   "execution_count": 195,
   "metadata": {},
   "outputs": [
    {
     "output_type": "execute_result",
     "data": {
      "text/plain": [
       "   Year  Month  ...  Average Wind Speed (mph)  Relative Humidity (%)\n",
       "0  2015      1  ...                       0.4                     76\n",
       "1  2015      1  ...                       0.9                     73\n",
       "2  2015      1  ...                       0.9                     55\n",
       "3  2015      1  ...                       0.9                     87\n",
       "4  2015      1  ...                       1.3                     82\n",
       "\n",
       "[5 rows x 7 columns]"
      ],
      "text/html": "<div>\n<style scoped>\n    .dataframe tbody tr th:only-of-type {\n        vertical-align: middle;\n    }\n\n    .dataframe tbody tr th {\n        vertical-align: top;\n    }\n\n    .dataframe thead th {\n        text-align: right;\n    }\n</style>\n<table border=\"1\" class=\"dataframe\">\n  <thead>\n    <tr style=\"text-align: right;\">\n      <th></th>\n      <th>Year</th>\n      <th>Month</th>\n      <th>Day</th>\n      <th>Max Temp (F)</th>\n      <th>Min Temp (F)</th>\n      <th>Average Wind Speed (mph)</th>\n      <th>Relative Humidity (%)</th>\n    </tr>\n  </thead>\n  <tbody>\n    <tr>\n      <th>0</th>\n      <td>2015</td>\n      <td>1</td>\n      <td>1</td>\n      <td>28</td>\n      <td>5</td>\n      <td>0.4</td>\n      <td>76</td>\n    </tr>\n    <tr>\n      <th>1</th>\n      <td>2015</td>\n      <td>1</td>\n      <td>2</td>\n      <td>34</td>\n      <td>14</td>\n      <td>0.9</td>\n      <td>73</td>\n    </tr>\n    <tr>\n      <th>2</th>\n      <td>2015</td>\n      <td>1</td>\n      <td>3</td>\n      <td>14</td>\n      <td>5</td>\n      <td>0.9</td>\n      <td>55</td>\n    </tr>\n    <tr>\n      <th>3</th>\n      <td>2015</td>\n      <td>1</td>\n      <td>4</td>\n      <td>47</td>\n      <td>8</td>\n      <td>0.9</td>\n      <td>87</td>\n    </tr>\n    <tr>\n      <th>4</th>\n      <td>2015</td>\n      <td>1</td>\n      <td>5</td>\n      <td>47</td>\n      <td>9</td>\n      <td>1.3</td>\n      <td>82</td>\n    </tr>\n  </tbody>\n</table>\n</div>"
     },
     "metadata": {},
     "execution_count": 195
    }
   ],
   "source": [
    "halifax_weather.head()"
   ]
  },
  {
   "cell_type": "code",
   "execution_count": 196,
   "metadata": {},
   "outputs": [],
   "source": [
    "from math import pow\n",
    "\n",
    "def windchill_regression(temperature, wind_speed):\n",
    "    T, V = temperature, wind_speed\n",
    "    feels_like = 35.74 + (0.6215) * (T) - (35.75) * (pow(V, 0.16)) + (0.4275 * T) * (pow(V, 0.16))\n",
    "    return round(feels_like)"
   ]
  },
  {
   "cell_type": "code",
   "execution_count": 197,
   "metadata": {},
   "outputs": [],
   "source": [
    "def get_windchill(temperature, wind_speed):\n",
    "    T, V = temperature, wind_speed\n",
    "    if (T > 50):\n",
    "        return temperature\n",
    "    else:\n",
    "        return windchill_regression(T, V)"
   ]
  },
  {
   "cell_type": "code",
   "execution_count": 198,
   "metadata": {},
   "outputs": [],
   "source": [
    "halifax_weather.insert(loc=7, column='Windchill Effect (F)', value=0, allow_duplicates=False)"
   ]
  },
  {
   "cell_type": "code",
   "execution_count": 199,
   "metadata": {},
   "outputs": [],
   "source": [
    "halifax_weather['Windchill Effect (F)'] = halifax_weather.apply(lambda row: get_windchill(row['Max Temp (F)'], row['Average Wind Speed (mph)']), axis=1)\n",
    "halifax_weather['Windchill Effect (F)'] = halifax_weather.apply(lambda row: round(row['Windchill Effect (F)']), axis=1)"
   ]
  },
  {
   "cell_type": "code",
   "execution_count": 200,
   "metadata": {},
   "outputs": [
    {
     "output_type": "execute_result",
     "data": {
      "text/plain": [
       "    Year  Month  ...  Relative Humidity (%)  Windchill Effect (F)\n",
       "0   2015      1  ...                     76                    33\n",
       "1   2015      1  ...                     73                    36\n",
       "2   2015      1  ...                     55                    15\n",
       "3   2015      1  ...                     87                    50\n",
       "4   2015      1  ...                     82                    49\n",
       "5   2015      1  ...                     64                     9\n",
       "6   2015      1  ...                     66                    13\n",
       "7   2015      1  ...                     72                     9\n",
       "8   2015      1  ...                     85                    40\n",
       "9   2015      1  ...                     72                    24\n",
       "10  2015      1  ...                     73                    26\n",
       "11  2015      1  ...                     95                    42\n",
       "12  2015      1  ...                     77                    28\n",
       "13  2015      1  ...                     75                    22\n",
       "14  2015      1  ...                     89                    30\n",
       "15  2015      1  ...                     93                    38\n",
       "16  2015      1  ...                     71                    10\n",
       "17  2015      1  ...                     85                    44\n",
       "18  2015      1  ...                    100                    48\n",
       "19  2015      1  ...                     81                    37\n",
       "\n",
       "[20 rows x 8 columns]"
      ],
      "text/html": "<div>\n<style scoped>\n    .dataframe tbody tr th:only-of-type {\n        vertical-align: middle;\n    }\n\n    .dataframe tbody tr th {\n        vertical-align: top;\n    }\n\n    .dataframe thead th {\n        text-align: right;\n    }\n</style>\n<table border=\"1\" class=\"dataframe\">\n  <thead>\n    <tr style=\"text-align: right;\">\n      <th></th>\n      <th>Year</th>\n      <th>Month</th>\n      <th>Day</th>\n      <th>Max Temp (F)</th>\n      <th>Min Temp (F)</th>\n      <th>Average Wind Speed (mph)</th>\n      <th>Relative Humidity (%)</th>\n      <th>Windchill Effect (F)</th>\n    </tr>\n  </thead>\n  <tbody>\n    <tr>\n      <th>0</th>\n      <td>2015</td>\n      <td>1</td>\n      <td>1</td>\n      <td>28</td>\n      <td>5</td>\n      <td>0.4</td>\n      <td>76</td>\n      <td>33</td>\n    </tr>\n    <tr>\n      <th>1</th>\n      <td>2015</td>\n      <td>1</td>\n      <td>2</td>\n      <td>34</td>\n      <td>14</td>\n      <td>0.9</td>\n      <td>73</td>\n      <td>36</td>\n    </tr>\n    <tr>\n      <th>2</th>\n      <td>2015</td>\n      <td>1</td>\n      <td>3</td>\n      <td>14</td>\n      <td>5</td>\n      <td>0.9</td>\n      <td>55</td>\n      <td>15</td>\n    </tr>\n    <tr>\n      <th>3</th>\n      <td>2015</td>\n      <td>1</td>\n      <td>4</td>\n      <td>47</td>\n      <td>8</td>\n      <td>0.9</td>\n      <td>87</td>\n      <td>50</td>\n    </tr>\n    <tr>\n      <th>4</th>\n      <td>2015</td>\n      <td>1</td>\n      <td>5</td>\n      <td>47</td>\n      <td>9</td>\n      <td>1.3</td>\n      <td>82</td>\n      <td>49</td>\n    </tr>\n    <tr>\n      <th>5</th>\n      <td>2015</td>\n      <td>1</td>\n      <td>6</td>\n      <td>9</td>\n      <td>3</td>\n      <td>1.1</td>\n      <td>64</td>\n      <td>9</td>\n    </tr>\n    <tr>\n      <th>6</th>\n      <td>2015</td>\n      <td>1</td>\n      <td>7</td>\n      <td>11</td>\n      <td>-3</td>\n      <td>0.7</td>\n      <td>66</td>\n      <td>13</td>\n    </tr>\n    <tr>\n      <th>7</th>\n      <td>2015</td>\n      <td>1</td>\n      <td>8</td>\n      <td>8</td>\n      <td>0</td>\n      <td>0.9</td>\n      <td>72</td>\n      <td>9</td>\n    </tr>\n    <tr>\n      <th>8</th>\n      <td>2015</td>\n      <td>1</td>\n      <td>9</td>\n      <td>38</td>\n      <td>2</td>\n      <td>1.1</td>\n      <td>85</td>\n      <td>40</td>\n    </tr>\n    <tr>\n      <th>9</th>\n      <td>2015</td>\n      <td>1</td>\n      <td>10</td>\n      <td>22</td>\n      <td>13</td>\n      <td>0.9</td>\n      <td>72</td>\n      <td>24</td>\n    </tr>\n    <tr>\n      <th>10</th>\n      <td>2015</td>\n      <td>1</td>\n      <td>11</td>\n      <td>24</td>\n      <td>13</td>\n      <td>0.9</td>\n      <td>73</td>\n      <td>26</td>\n    </tr>\n    <tr>\n      <th>11</th>\n      <td>2015</td>\n      <td>1</td>\n      <td>12</td>\n      <td>39</td>\n      <td>24</td>\n      <td>0.7</td>\n      <td>95</td>\n      <td>42</td>\n    </tr>\n    <tr>\n      <th>12</th>\n      <td>2015</td>\n      <td>1</td>\n      <td>13</td>\n      <td>27</td>\n      <td>1</td>\n      <td>1.1</td>\n      <td>77</td>\n      <td>28</td>\n    </tr>\n    <tr>\n      <th>13</th>\n      <td>2015</td>\n      <td>1</td>\n      <td>14</td>\n      <td>21</td>\n      <td>-1</td>\n      <td>1.1</td>\n      <td>75</td>\n      <td>22</td>\n    </tr>\n    <tr>\n      <th>14</th>\n      <td>2015</td>\n      <td>1</td>\n      <td>15</td>\n      <td>28</td>\n      <td>10</td>\n      <td>0.9</td>\n      <td>89</td>\n      <td>30</td>\n    </tr>\n    <tr>\n      <th>15</th>\n      <td>2015</td>\n      <td>1</td>\n      <td>16</td>\n      <td>36</td>\n      <td>11</td>\n      <td>0.9</td>\n      <td>93</td>\n      <td>38</td>\n    </tr>\n    <tr>\n      <th>16</th>\n      <td>2015</td>\n      <td>1</td>\n      <td>17</td>\n      <td>11</td>\n      <td>2</td>\n      <td>1.3</td>\n      <td>71</td>\n      <td>10</td>\n    </tr>\n    <tr>\n      <th>17</th>\n      <td>2015</td>\n      <td>1</td>\n      <td>18</td>\n      <td>42</td>\n      <td>2</td>\n      <td>1.1</td>\n      <td>85</td>\n      <td>44</td>\n    </tr>\n    <tr>\n      <th>18</th>\n      <td>2015</td>\n      <td>1</td>\n      <td>19</td>\n      <td>46</td>\n      <td>34</td>\n      <td>1.1</td>\n      <td>100</td>\n      <td>48</td>\n    </tr>\n    <tr>\n      <th>19</th>\n      <td>2015</td>\n      <td>1</td>\n      <td>20</td>\n      <td>36</td>\n      <td>18</td>\n      <td>1.1</td>\n      <td>81</td>\n      <td>37</td>\n    </tr>\n  </tbody>\n</table>\n</div>"
     },
     "metadata": {},
     "execution_count": 200
    }
   ],
   "source": [
    "halifax_weather.head(20)"
   ]
  },
  {
   "cell_type": "code",
   "execution_count": 201,
   "metadata": {},
   "outputs": [],
   "source": [
    "halifax_weather.insert(loc=8, column='Users Thermostat (F)', value=0, allow_duplicates=False)"
   ]
  },
  {
   "cell_type": "code",
   "execution_count": 202,
   "metadata": {},
   "outputs": [],
   "source": [
    "import random\n",
    "from time import gmtime\n",
    "from calendar import timegm\n",
    "\n",
    "def user_heating(windchill_temperature):\n",
    "    # Gets the systems milliseconds since the epoch\n",
    "    mseconds = timegm(gmtime())\n",
    "    # Sets the milliseconds as the random seed for generation\n",
    "    rand_seed = random.seed(mseconds * random.random())\n",
    "\n",
    "    min_heat = 60\n",
    "    avg_heat = 66\n",
    "    max_heat = 71\n",
    "    if (windchill_temperature <= 45):\n",
    "        return random.randrange(avg_heat, max_heat, 1)\n",
    "    elif (windchill_temperature > 45):\n",
    "        return random.randrange(min_heat, avg_heat, 1)\n",
    "\n",
    "def user_cooling(feels_like_temperature):\n",
    "    # Gets the systems milliseconds since the epoch\n",
    "    mseconds = timegm(gmtime())\n",
    "    # Sets the milliseconds as the random seed for generation\n",
    "    rand_seed = random.seed(mseconds * random.random())\n",
    "\n",
    "    min_cool = 74\n",
    "    avg_cool = 79\n",
    "    max_cool = 85\n",
    "    if (feels_like_temperature >= 90):\n",
    "        return random.randrange(min_cool, avg_cool, 1)\n",
    "    elif (feels_like_temperature < 90):\n",
    "        return random.randrange(avg_cool, max_cool, 1)\n",
    "\n",
    "def user_normal(temperature):\n",
    "    return floor(temperature)\n",
    "\n",
    "def get_user_data(weighted_temperature):\n",
    "    if (weighted_temperature <= 64):\n",
    "        # The WHO recommends a minimum indoor temperature of 64 degrees Fahrenheit\n",
    "        return user_heating(windchill_temperature=weighted_temperature) # Run the heat\n",
    "    elif (weighted_temperature > 64 and weighted_temperature <= 80):\n",
    "        return user_normal(weighted_temperature) # The house is at room temperature\n",
    "    elif (weighted_temperature > 80):\n",
    "        return user_cooling(feels_like_temperature=weighted_temperature) # Otherwise run the A/C"
   ]
  },
  {
   "cell_type": "code",
   "execution_count": 203,
   "metadata": {},
   "outputs": [],
   "source": [
    "halifax_weather['Users Thermostat (F)'] = halifax_weather.apply(lambda row: get_user_data(row['Windchill Effect (F)']), axis=1)"
   ]
  },
  {
   "cell_type": "code",
   "execution_count": 204,
   "metadata": {},
   "outputs": [
    {
     "output_type": "execute_result",
     "data": {
      "text/plain": [
       "      Year  Month  ...  Windchill Effect (F)  Users Thermostat (F)\n",
       "1795  2019     12  ...                    31                    70\n",
       "1796  2019     12  ...                    43                    66\n",
       "1797  2019     12  ...                    39                    69\n",
       "1798  2019     12  ...                    38                    70\n",
       "1799  2019     12  ...                    32                    68\n",
       "1800  2019     12  ...                    26                    68\n",
       "1801  2019     12  ...                    29                    68\n",
       "1802  2019     12  ...                    51                    65\n",
       "1803  2019     12  ...                    55                    65\n",
       "1804  2019     12  ...                    51                    61\n",
       "1805  2019     12  ...                    22                    67\n",
       "1806  2019     12  ...                    36                    66\n",
       "1807  2019     12  ...                    58                    60\n",
       "1808  2019     12  ...                    57                    63\n",
       "1809  2019     12  ...                    30                    66\n",
       "1810  2019     12  ...                    29                    68\n",
       "1811  2019     12  ...                    26                    67\n",
       "1812  2019     12  ...                    19                    69\n",
       "1813  2019     12  ...                    32                    69\n",
       "1814  2019     12  ...                    30                    67\n",
       "1815  2019     12  ...                    39                    67\n",
       "1816  2019     12  ...                    37                    67\n",
       "1817  2019     12  ...                    36                    70\n",
       "1818  2019     12  ...                    26                    67\n",
       "1819  2019     12  ...                    20                    68\n",
       "1820  2019     12  ...                    39                    68\n",
       "1821  2019     12  ...                    40                    66\n",
       "1822  2019     12  ...                    33                    67\n",
       "1823  2019     12  ...                    30                    70\n",
       "1824  2019     12  ...                    39                    67\n",
       "\n",
       "[30 rows x 9 columns]"
      ],
      "text/html": "<div>\n<style scoped>\n    .dataframe tbody tr th:only-of-type {\n        vertical-align: middle;\n    }\n\n    .dataframe tbody tr th {\n        vertical-align: top;\n    }\n\n    .dataframe thead th {\n        text-align: right;\n    }\n</style>\n<table border=\"1\" class=\"dataframe\">\n  <thead>\n    <tr style=\"text-align: right;\">\n      <th></th>\n      <th>Year</th>\n      <th>Month</th>\n      <th>Day</th>\n      <th>Max Temp (F)</th>\n      <th>Min Temp (F)</th>\n      <th>Average Wind Speed (mph)</th>\n      <th>Relative Humidity (%)</th>\n      <th>Windchill Effect (F)</th>\n      <th>Users Thermostat (F)</th>\n    </tr>\n  </thead>\n  <tbody>\n    <tr>\n      <th>1795</th>\n      <td>2019</td>\n      <td>12</td>\n      <td>2</td>\n      <td>32</td>\n      <td>18</td>\n      <td>1.8</td>\n      <td>78</td>\n      <td>31</td>\n      <td>70</td>\n    </tr>\n    <tr>\n      <th>1796</th>\n      <td>2019</td>\n      <td>12</td>\n      <td>3</td>\n      <td>43</td>\n      <td>31</td>\n      <td>1.8</td>\n      <td>95</td>\n      <td>43</td>\n      <td>66</td>\n    </tr>\n    <tr>\n      <th>1797</th>\n      <td>2019</td>\n      <td>12</td>\n      <td>4</td>\n      <td>39</td>\n      <td>27</td>\n      <td>1.6</td>\n      <td>95</td>\n      <td>39</td>\n      <td>69</td>\n    </tr>\n    <tr>\n      <th>1798</th>\n      <td>2019</td>\n      <td>12</td>\n      <td>5</td>\n      <td>36</td>\n      <td>27</td>\n      <td>0.9</td>\n      <td>95</td>\n      <td>38</td>\n      <td>70</td>\n    </tr>\n    <tr>\n      <th>1799</th>\n      <td>2019</td>\n      <td>12</td>\n      <td>6</td>\n      <td>33</td>\n      <td>26</td>\n      <td>1.8</td>\n      <td>86</td>\n      <td>32</td>\n      <td>68</td>\n    </tr>\n    <tr>\n      <th>1800</th>\n      <td>2019</td>\n      <td>12</td>\n      <td>7</td>\n      <td>27</td>\n      <td>16</td>\n      <td>1.8</td>\n      <td>71</td>\n      <td>26</td>\n      <td>68</td>\n    </tr>\n    <tr>\n      <th>1801</th>\n      <td>2019</td>\n      <td>12</td>\n      <td>8</td>\n      <td>30</td>\n      <td>15</td>\n      <td>1.8</td>\n      <td>80</td>\n      <td>29</td>\n      <td>68</td>\n    </tr>\n    <tr>\n      <th>1802</th>\n      <td>2019</td>\n      <td>12</td>\n      <td>9</td>\n      <td>51</td>\n      <td>30</td>\n      <td>2.0</td>\n      <td>94</td>\n      <td>51</td>\n      <td>65</td>\n    </tr>\n    <tr>\n      <th>1803</th>\n      <td>2019</td>\n      <td>12</td>\n      <td>10</td>\n      <td>55</td>\n      <td>51</td>\n      <td>2.9</td>\n      <td>99</td>\n      <td>55</td>\n      <td>65</td>\n    </tr>\n    <tr>\n      <th>1804</th>\n      <td>2019</td>\n      <td>12</td>\n      <td>11</td>\n      <td>51</td>\n      <td>20</td>\n      <td>1.6</td>\n      <td>90</td>\n      <td>51</td>\n      <td>61</td>\n    </tr>\n    <tr>\n      <th>1805</th>\n      <td>2019</td>\n      <td>12</td>\n      <td>12</td>\n      <td>24</td>\n      <td>11</td>\n      <td>2.0</td>\n      <td>70</td>\n      <td>22</td>\n      <td>67</td>\n    </tr>\n    <tr>\n      <th>1806</th>\n      <td>2019</td>\n      <td>12</td>\n      <td>13</td>\n      <td>34</td>\n      <td>11</td>\n      <td>0.9</td>\n      <td>71</td>\n      <td>36</td>\n      <td>66</td>\n    </tr>\n    <tr>\n      <th>1807</th>\n      <td>2019</td>\n      <td>12</td>\n      <td>14</td>\n      <td>58</td>\n      <td>33</td>\n      <td>2.5</td>\n      <td>99</td>\n      <td>58</td>\n      <td>60</td>\n    </tr>\n    <tr>\n      <th>1808</th>\n      <td>2019</td>\n      <td>12</td>\n      <td>15</td>\n      <td>57</td>\n      <td>33</td>\n      <td>2.5</td>\n      <td>88</td>\n      <td>57</td>\n      <td>63</td>\n    </tr>\n    <tr>\n      <th>1809</th>\n      <td>2019</td>\n      <td>12</td>\n      <td>16</td>\n      <td>33</td>\n      <td>22</td>\n      <td>3.1</td>\n      <td>58</td>\n      <td>30</td>\n      <td>66</td>\n    </tr>\n    <tr>\n      <th>1810</th>\n      <td>2019</td>\n      <td>12</td>\n      <td>17</td>\n      <td>29</td>\n      <td>21</td>\n      <td>1.3</td>\n      <td>73</td>\n      <td>29</td>\n      <td>68</td>\n    </tr>\n    <tr>\n      <th>1811</th>\n      <td>2019</td>\n      <td>12</td>\n      <td>18</td>\n      <td>26</td>\n      <td>18</td>\n      <td>1.3</td>\n      <td>86</td>\n      <td>26</td>\n      <td>67</td>\n    </tr>\n    <tr>\n      <th>1812</th>\n      <td>2019</td>\n      <td>12</td>\n      <td>19</td>\n      <td>21</td>\n      <td>11</td>\n      <td>2.0</td>\n      <td>76</td>\n      <td>19</td>\n      <td>69</td>\n    </tr>\n    <tr>\n      <th>1813</th>\n      <td>2019</td>\n      <td>12</td>\n      <td>20</td>\n      <td>33</td>\n      <td>13</td>\n      <td>2.0</td>\n      <td>81</td>\n      <td>32</td>\n      <td>69</td>\n    </tr>\n    <tr>\n      <th>1814</th>\n      <td>2019</td>\n      <td>12</td>\n      <td>21</td>\n      <td>30</td>\n      <td>20</td>\n      <td>1.3</td>\n      <td>90</td>\n      <td>30</td>\n      <td>67</td>\n    </tr>\n    <tr>\n      <th>1815</th>\n      <td>2019</td>\n      <td>12</td>\n      <td>22</td>\n      <td>38</td>\n      <td>18</td>\n      <td>1.3</td>\n      <td>91</td>\n      <td>39</td>\n      <td>67</td>\n    </tr>\n    <tr>\n      <th>1816</th>\n      <td>2019</td>\n      <td>12</td>\n      <td>23</td>\n      <td>36</td>\n      <td>28</td>\n      <td>1.3</td>\n      <td>91</td>\n      <td>37</td>\n      <td>67</td>\n    </tr>\n    <tr>\n      <th>1817</th>\n      <td>2019</td>\n      <td>12</td>\n      <td>24</td>\n      <td>37</td>\n      <td>25</td>\n      <td>2.0</td>\n      <td>85</td>\n      <td>36</td>\n      <td>70</td>\n    </tr>\n    <tr>\n      <th>1818</th>\n      <td>2019</td>\n      <td>12</td>\n      <td>25</td>\n      <td>27</td>\n      <td>16</td>\n      <td>1.6</td>\n      <td>82</td>\n      <td>26</td>\n      <td>67</td>\n    </tr>\n    <tr>\n      <th>1819</th>\n      <td>2019</td>\n      <td>12</td>\n      <td>26</td>\n      <td>22</td>\n      <td>14</td>\n      <td>1.8</td>\n      <td>81</td>\n      <td>20</td>\n      <td>68</td>\n    </tr>\n    <tr>\n      <th>1820</th>\n      <td>2019</td>\n      <td>12</td>\n      <td>27</td>\n      <td>38</td>\n      <td>13</td>\n      <td>1.3</td>\n      <td>87</td>\n      <td>39</td>\n      <td>68</td>\n    </tr>\n    <tr>\n      <th>1821</th>\n      <td>2019</td>\n      <td>12</td>\n      <td>28</td>\n      <td>40</td>\n      <td>32</td>\n      <td>1.8</td>\n      <td>95</td>\n      <td>40</td>\n      <td>66</td>\n    </tr>\n    <tr>\n      <th>1822</th>\n      <td>2019</td>\n      <td>12</td>\n      <td>29</td>\n      <td>33</td>\n      <td>22</td>\n      <td>1.6</td>\n      <td>79</td>\n      <td>33</td>\n      <td>67</td>\n    </tr>\n    <tr>\n      <th>1823</th>\n      <td>2019</td>\n      <td>12</td>\n      <td>30</td>\n      <td>30</td>\n      <td>22</td>\n      <td>1.6</td>\n      <td>86</td>\n      <td>30</td>\n      <td>70</td>\n    </tr>\n    <tr>\n      <th>1824</th>\n      <td>2019</td>\n      <td>12</td>\n      <td>31</td>\n      <td>40</td>\n      <td>24</td>\n      <td>2.2</td>\n      <td>93</td>\n      <td>39</td>\n      <td>67</td>\n    </tr>\n  </tbody>\n</table>\n</div>"
     },
     "metadata": {},
     "execution_count": 204
    }
   ],
   "source": [
    "halifax_weather.tail(30)"
   ]
  },
  {
   "cell_type": "code",
   "execution_count": null,
   "metadata": {},
   "outputs": [],
   "source": []
  },
  {
   "cell_type": "code",
   "execution_count": 206,
   "metadata": {},
   "outputs": [],
   "source": [
    "halifax_weather.to_csv(path_or_buf='WeatherData/ColdnHumid/halifax/halifaxCompleteUser.csv')"
   ]
  }
 ]
}